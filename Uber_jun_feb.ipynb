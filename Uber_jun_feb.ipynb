{
 "cells": [
  {
   "cell_type": "markdown",
   "metadata": {},
   "source": [
    "---\n",
    "# Uber-Project\n",
    "\n",
    "---"
   ]
  },
  {
   "cell_type": "code",
   "execution_count": 1,
   "metadata": {},
   "outputs": [
    {
     "data": {
      "text/html": [
       "        <script type=\"text/javascript\">\n",
       "        window.PlotlyConfig = {MathJaxConfig: 'local'};\n",
       "        if (window.MathJax && window.MathJax.Hub && window.MathJax.Hub.Config) {window.MathJax.Hub.Config({SVG: {font: \"STIX-Web\"}});}\n",
       "        if (typeof require !== 'undefined') {\n",
       "        require.undef(\"plotly\");\n",
       "        requirejs.config({\n",
       "            paths: {\n",
       "                'plotly': ['https://cdn.plot.ly/plotly-2.14.0.min']\n",
       "            }\n",
       "        });\n",
       "        require(['plotly'], function(Plotly) {\n",
       "            window._Plotly = Plotly;\n",
       "        });\n",
       "        }\n",
       "        </script>\n",
       "        "
      ]
     },
     "metadata": {},
     "output_type": "display_data"
    }
   ],
   "source": [
    "import datetime as dt\n",
    "import pandas_profiling\n",
    "import pandas as pd\n",
    "import numpy as np\n",
    "import seaborn as sas\n",
    "import matplotlib.pyplot as plt\n",
    "import plotly.express as px\n",
    "import plotly.graph_objects as go\n",
    "from plotly.offline import download_plotlyjs ,init_notebook_mode, plot,iplot\n",
    "init_notebook_mode(connected=True)\n",
    "%matplotlib inline\n",
    "sas.set()"
   ]
  },
  {
   "cell_type": "code",
   "execution_count": 706,
   "metadata": {},
   "outputs": [],
   "source": [
    "Uber_jan_feb = pd.read_csv('H:/PYTHON/python for data science/s11-project/uber/Uber-Jan-Feb-FOIL.csv',parse_dates=['date'],dtype={'active_vehicles':'i','trips':'i','dispatching_base_number':'string'})\n",
    "American = pd.read_csv('H:/PYTHON/python for data science/s11-project/uber/other-American_B01362.csv',usecols=['DATE','TIME','PICK UP ADDRESS'])\n",
    "Carmel = pd.read_csv('H:/PYTHON/python for data science/s11-project/uber/other-Carmel_B00256.csv' , encoding=('ISO-8859-1'))"
   ]
  },
  {
   "cell_type": "markdown",
   "metadata": {},
   "source": [
    "---\n",
    "## ASK\n",
    "---"
   ]
  },
  {
   "cell_type": "markdown",
   "metadata": {},
   "source": [
    "__1-How many unique number of dispatching base number ?__"
   ]
  },
  {
   "cell_type": "markdown",
   "metadata": {},
   "source": [
    "__2-What is the most dispatching base number achives trips ?__"
   ]
  },
  {
   "cell_type": "markdown",
   "metadata": {},
   "source": [
    "__3-What is the most commen month has trips ?__"
   ]
  },
  {
   "cell_type": "markdown",
   "metadata": {},
   "source": [
    "__4-What is the most commen day has trips ?__"
   ]
  },
  {
   "cell_type": "markdown",
   "metadata": {},
   "source": [
    "__5-Does the number of vehicles affects on number of trips ?__"
   ]
  },
  {
   "cell_type": "markdown",
   "metadata": {},
   "source": [
    "__6-What is the total number of trips ?__"
   ]
  },
  {
   "cell_type": "markdown",
   "metadata": {},
   "source": [
    "__7-How many vehicles we have in this period ?__"
   ]
  },
  {
   "cell_type": "markdown",
   "metadata": {},
   "source": [
    "__8-What is the average trips per month and day ?__"
   ]
  },
  {
   "cell_type": "markdown",
   "metadata": {},
   "source": [
    "__9-What is the most dispatching base number has vehicles ?__"
   ]
  },
  {
   "cell_type": "markdown",
   "metadata": {},
   "source": [
    "__10-How many dispatching base number we have ?__"
   ]
  },
  {
   "cell_type": "markdown",
   "metadata": {},
   "source": [
    "\n",
    "__11-What is the most commen month people ask for trips ?__"
   ]
  },
  {
   "cell_type": "markdown",
   "metadata": {},
   "source": [
    "__12-What is the most commen day people ask for trips ?__"
   ]
  },
  {
   "cell_type": "markdown",
   "metadata": {},
   "source": [
    "__13-Total number of each kind of trips ?__"
   ]
  },
  {
   "cell_type": "markdown",
   "metadata": {},
   "source": [
    "__14-Total number of each status of vehicles's number ?__"
   ]
  },
  {
   "cell_type": "markdown",
   "metadata": {},
   "source": [
    "__15-How many vehicles for each status of vehicles's number and kind of trips ?__"
   ]
  },
  {
   "cell_type": "markdown",
   "metadata": {},
   "source": [
    "__16-How many trips for each status of vehicles's number and kind of trips ?__"
   ]
  },
  {
   "cell_type": "markdown",
   "metadata": {},
   "source": [
    "__17-What is the average and total of trips for each week ?__"
   ]
  },
  {
   "cell_type": "markdown",
   "metadata": {},
   "source": [
    "__18-How many people ask for a trip AM or PM ?__"
   ]
  },
  {
   "cell_type": "markdown",
   "metadata": {},
   "source": [
    "__19-How many unique address we have ?__"
   ]
  },
  {
   "cell_type": "markdown",
   "metadata": {},
   "source": [
    "__20-Is there a particular time people ask for trips?__"
   ]
  },
  {
   "cell_type": "markdown",
   "metadata": {},
   "source": [
    "__21-What is the most day people asked trips in it__"
   ]
  },
  {
   "cell_type": "markdown",
   "metadata": {},
   "source": [
    "__31-What is the number of trips for each day?__"
   ]
  },
  {
   "cell_type": "markdown",
   "metadata": {},
   "source": [
    "__32-What is the number of trips for each month?__"
   ]
  },
  {
   "cell_type": "markdown",
   "metadata": {},
   "source": [
    "__33-What is the number of trips for each week?__"
   ]
  },
  {
   "cell_type": "markdown",
   "metadata": {},
   "source": [
    "__34-What are the most regions asked for trips?__"
   ]
  },
  {
   "cell_type": "markdown",
   "metadata": {},
   "source": [
    "__35-Is there regions asked for trips only AM or  PM?__"
   ]
  },
  {
   "cell_type": "markdown",
   "metadata": {},
   "source": [
    "__36-What is the most period people ask for trips in it?__"
   ]
  },
  {
   "cell_type": "markdown",
   "metadata": {},
   "source": [
    "__37-What is the total number of trips?__"
   ]
  },
  {
   "cell_type": "markdown",
   "metadata": {},
   "source": [
    "__39-What is the average of number trips by day, month, week, hour and minute ?__"
   ]
  },
  {
   "cell_type": "markdown",
   "metadata": {},
   "source": [
    "__40-What is the top 10 address that has asked for trips and the lowest 10?__"
   ]
  },
  {
   "cell_type": "markdown",
   "metadata": {},
   "source": [
    "__41-What is the total of number trips by day, month, week, hour and minute ?__"
   ]
  },
  {
   "cell_type": "markdown",
   "metadata": {},
   "source": [
    "---\n",
    "## Data Cleaning and Preprocessing\n",
    "---\n"
   ]
  },
  {
   "cell_type": "code",
   "execution_count": 707,
   "metadata": {},
   "outputs": [],
   "source": [
    "Uber_jan_feb['days'] = Uber_jan_feb.date.dt.day_name()\n",
    "Uber_jan_feb['months'] = Uber_jan_feb.date.dt.month_name()\n",
    "Uber_jan_feb['weeks'] = Uber_jan_feb.date.dt.day_of_week\n",
    "\n"
   ]
  },
  {
   "cell_type": "code",
   "execution_count": 708,
   "metadata": {},
   "outputs": [
    {
     "data": {
      "text/html": [
       "<div>\n",
       "<style scoped>\n",
       "    .dataframe tbody tr th:only-of-type {\n",
       "        vertical-align: middle;\n",
       "    }\n",
       "\n",
       "    .dataframe tbody tr th {\n",
       "        vertical-align: top;\n",
       "    }\n",
       "\n",
       "    .dataframe thead th {\n",
       "        text-align: right;\n",
       "    }\n",
       "</style>\n",
       "<table border=\"1\" class=\"dataframe\">\n",
       "  <thead>\n",
       "    <tr style=\"text-align: right;\">\n",
       "      <th></th>\n",
       "      <th>active_vehicles</th>\n",
       "      <th>trips</th>\n",
       "      <th>weeks</th>\n",
       "    </tr>\n",
       "  </thead>\n",
       "  <tbody>\n",
       "    <tr>\n",
       "      <th>count</th>\n",
       "      <td>354.000000</td>\n",
       "      <td>354.000000</td>\n",
       "      <td>354.000000</td>\n",
       "    </tr>\n",
       "    <tr>\n",
       "      <th>mean</th>\n",
       "      <td>1307.435028</td>\n",
       "      <td>11667.316384</td>\n",
       "      <td>3.050847</td>\n",
       "    </tr>\n",
       "    <tr>\n",
       "      <th>std</th>\n",
       "      <td>1162.510626</td>\n",
       "      <td>10648.284865</td>\n",
       "      <td>1.972247</td>\n",
       "    </tr>\n",
       "    <tr>\n",
       "      <th>min</th>\n",
       "      <td>112.000000</td>\n",
       "      <td>629.000000</td>\n",
       "      <td>0.000000</td>\n",
       "    </tr>\n",
       "    <tr>\n",
       "      <th>25%</th>\n",
       "      <td>296.750000</td>\n",
       "      <td>2408.500000</td>\n",
       "      <td>1.000000</td>\n",
       "    </tr>\n",
       "    <tr>\n",
       "      <th>50%</th>\n",
       "      <td>1077.000000</td>\n",
       "      <td>9601.000000</td>\n",
       "      <td>3.000000</td>\n",
       "    </tr>\n",
       "    <tr>\n",
       "      <th>75%</th>\n",
       "      <td>1417.000000</td>\n",
       "      <td>13711.250000</td>\n",
       "      <td>5.000000</td>\n",
       "    </tr>\n",
       "    <tr>\n",
       "      <th>max</th>\n",
       "      <td>4395.000000</td>\n",
       "      <td>45858.000000</td>\n",
       "      <td>6.000000</td>\n",
       "    </tr>\n",
       "  </tbody>\n",
       "</table>\n",
       "</div>"
      ],
      "text/plain": [
       "       active_vehicles         trips       weeks\n",
       "count       354.000000    354.000000  354.000000\n",
       "mean       1307.435028  11667.316384    3.050847\n",
       "std        1162.510626  10648.284865    1.972247\n",
       "min         112.000000    629.000000    0.000000\n",
       "25%         296.750000   2408.500000    1.000000\n",
       "50%        1077.000000   9601.000000    3.000000\n",
       "75%        1417.000000  13711.250000    5.000000\n",
       "max        4395.000000  45858.000000    6.000000"
      ]
     },
     "execution_count": 708,
     "metadata": {},
     "output_type": "execute_result"
    }
   ],
   "source": [
    "Uber_jan_feb.describe()"
   ]
  },
  {
   "cell_type": "code",
   "execution_count": 709,
   "metadata": {},
   "outputs": [
    {
     "data": {
      "text/plain": [
       "array([<AxesSubplot:>, <AxesSubplot:>, <AxesSubplot:>, <AxesSubplot:>],\n",
       "      dtype=object)"
      ]
     },
     "execution_count": 709,
     "metadata": {},
     "output_type": "execute_result"
    },
    {
     "data": {
      "image/png": "[encoded data removed]",
      "text/plain": [
       "<Figure size 3000x2000 with 4 Axes>"
      ]
     },
     "metadata": {},
     "output_type": "display_data"
    }
   ],
   "source": [
    "Uber_jan_feb.plot(subplots=True , figsize=(30,20))"
   ]
  },
  {
   "cell_type": "code",
   "execution_count": 710,
   "metadata": {},
   "outputs": [],
   "source": [
    "Uber_jan_feb['status_of_vehicles\\'s_number'] = pd.cut(Uber_jan_feb.trips , bins=[0,10000,20000,30000,50000] , labels=['Low' , 'Medium' ,'High' ,'Higher'])"
   ]
  },
  {
   "cell_type": "code",
   "execution_count": 711,
   "metadata": {},
   "outputs": [],
   "source": [
    "Uber_jan_feb['Kind_of_trips'] = pd.cut(Uber_jan_feb.trips , bins=[0,10000,20000,30000,50000] , labels=['Bad' , 'Normal' ,'Good' ,'Best'])"
   ]
  },
  {
   "cell_type": "markdown",
   "metadata": {},
   "source": [
    "---\n",
    "## Analysis and Visualization\n",
    "---"
   ]
  },
  {
   "cell_type": "markdown",
   "metadata": {},
   "source": [
    "__1-How many unique number of dispatching base number ?__"
   ]
  },
  {
   "cell_type": "code",
   "execution_count": 736,
   "metadata": {},
   "outputs": [
    {
     "data": {
      "text/html": [
       "<div>\n",
       "<style scoped>\n",
       "    .dataframe tbody tr th:only-of-type {\n",
       "        vertical-align: middle;\n",
       "    }\n",
       "\n",
       "    .dataframe tbody tr th {\n",
       "        vertical-align: top;\n",
       "    }\n",
       "\n",
       "    .dataframe thead th {\n",
       "        text-align: right;\n",
       "    }\n",
       "</style>\n",
       "<table border=\"1\" class=\"dataframe\">\n",
       "  <thead>\n",
       "    <tr style=\"text-align: right;\">\n",
       "      <th></th>\n",
       "      <th>0</th>\n",
       "    </tr>\n",
       "  </thead>\n",
       "  <tbody>\n",
       "    <tr>\n",
       "      <th>0</th>\n",
       "      <td>6</td>\n",
       "    </tr>\n",
       "  </tbody>\n",
       "</table>\n",
       "</div>"
      ],
      "text/plain": [
       "   0\n",
       "0  6"
      ]
     },
     "execution_count": 736,
     "metadata": {},
     "output_type": "execute_result"
    }
   ],
   "source": [
    "q_1 = pd.Series(Uber_jan_feb.dispatching_base_number.nunique())\n",
    "q_1 = pd.DataFrame(q_1)\n",
    "q_1\n",
    "\n"
   ]
  },
  {
   "cell_type": "markdown",
   "metadata": {},
   "source": [
    "__2-What is the most dispatching base number achives trips ?__"
   ]
  },
  {
   "cell_type": "code",
   "execution_count": 737,
   "metadata": {},
   "outputs": [
    {
     "data": {
      "text/html": [
       "<div>\n",
       "<style scoped>\n",
       "    .dataframe tbody tr th:only-of-type {\n",
       "        vertical-align: middle;\n",
       "    }\n",
       "\n",
       "    .dataframe tbody tr th {\n",
       "        vertical-align: top;\n",
       "    }\n",
       "\n",
       "    .dataframe thead th {\n",
       "        text-align: right;\n",
       "    }\n",
       "</style>\n",
       "<table border=\"1\" class=\"dataframe\">\n",
       "  <thead>\n",
       "    <tr style=\"text-align: right;\">\n",
       "      <th></th>\n",
       "      <th>dispatching_base_number</th>\n",
       "      <th>number_of_trips</th>\n",
       "    </tr>\n",
       "  </thead>\n",
       "  <tbody>\n",
       "    <tr>\n",
       "      <th>0</th>\n",
       "      <td>B02764</td>\n",
       "      <td>1914449</td>\n",
       "    </tr>\n",
       "    <tr>\n",
       "      <th>1</th>\n",
       "      <td>B02617</td>\n",
       "      <td>725025</td>\n",
       "    </tr>\n",
       "    <tr>\n",
       "      <th>2</th>\n",
       "      <td>B02682</td>\n",
       "      <td>662509</td>\n",
       "    </tr>\n",
       "    <tr>\n",
       "      <th>3</th>\n",
       "      <td>B02598</td>\n",
       "      <td>540791</td>\n",
       "    </tr>\n",
       "    <tr>\n",
       "      <th>4</th>\n",
       "      <td>B02765</td>\n",
       "      <td>193670</td>\n",
       "    </tr>\n",
       "    <tr>\n",
       "      <th>5</th>\n",
       "      <td>B02512</td>\n",
       "      <td>93786</td>\n",
       "    </tr>\n",
       "  </tbody>\n",
       "</table>\n",
       "</div>"
      ],
      "text/plain": [
       "  dispatching_base_number  number_of_trips\n",
       "0                  B02764          1914449\n",
       "1                  B02617           725025\n",
       "2                  B02682           662509\n",
       "3                  B02598           540791\n",
       "4                  B02765           193670\n",
       "5                  B02512            93786"
      ]
     },
     "execution_count": 737,
     "metadata": {},
     "output_type": "execute_result"
    }
   ],
   "source": [
    "q_2 = Uber_jan_feb.groupby('dispatching_base_number').agg(number_of_trips =('trips','sum')).sort_values(by='number_of_trips' , ascending=False).reset_index()\n",
    "q_2\n"
   ]
  },
  {
   "cell_type": "markdown",
   "metadata": {},
   "source": [
    "__3-What is the most commen month has trips ?__"
   ]
  },
  {
   "cell_type": "code",
   "execution_count": 738,
   "metadata": {},
   "outputs": [
    {
     "data": {
      "text/html": [
       "<div>\n",
       "<style scoped>\n",
       "    .dataframe tbody tr th:only-of-type {\n",
       "        vertical-align: middle;\n",
       "    }\n",
       "\n",
       "    .dataframe tbody tr th {\n",
       "        vertical-align: top;\n",
       "    }\n",
       "\n",
       "    .dataframe thead th {\n",
       "        text-align: right;\n",
       "    }\n",
       "</style>\n",
       "<table border=\"1\" class=\"dataframe\">\n",
       "  <thead>\n",
       "    <tr style=\"text-align: right;\">\n",
       "      <th></th>\n",
       "      <th>months</th>\n",
       "      <th>number_of_trips</th>\n",
       "    </tr>\n",
       "  </thead>\n",
       "  <tbody>\n",
       "    <tr>\n",
       "      <th>0</th>\n",
       "      <td>February</td>\n",
       "      <td>2221581</td>\n",
       "    </tr>\n",
       "    <tr>\n",
       "      <th>1</th>\n",
       "      <td>January</td>\n",
       "      <td>1908649</td>\n",
       "    </tr>\n",
       "  </tbody>\n",
       "</table>\n",
       "</div>"
      ],
      "text/plain": [
       "     months  number_of_trips\n",
       "0  February          2221581\n",
       "1   January          1908649"
      ]
     },
     "execution_count": 738,
     "metadata": {},
     "output_type": "execute_result"
    }
   ],
   "source": [
    "q_3 = Uber_jan_feb.groupby('months').agg(number_of_trips =('trips','sum')).sort_values(by='number_of_trips' , ascending=False).reset_index()\n",
    "q_3\n"
   ]
  },
  {
   "cell_type": "code",
   "execution_count": 739,
   "metadata": {},
   "outputs": [
    {
     "data": {
      "text/html": [
       "<div>\n",
       "<style scoped>\n",
       "    .dataframe tbody tr th:only-of-type {\n",
       "        vertical-align: middle;\n",
       "    }\n",
       "\n",
       "    .dataframe tbody tr th {\n",
       "        vertical-align: top;\n",
       "    }\n",
       "\n",
       "    .dataframe thead th {\n",
       "        text-align: right;\n",
       "    }\n",
       "</style>\n",
       "<table border=\"1\" class=\"dataframe\">\n",
       "  <thead>\n",
       "    <tr style=\"text-align: right;\">\n",
       "      <th></th>\n",
       "      <th>months</th>\n",
       "      <th>number_of_trips</th>\n",
       "    </tr>\n",
       "  </thead>\n",
       "  <tbody>\n",
       "    <tr>\n",
       "      <th>0</th>\n",
       "      <td>February</td>\n",
       "      <td>13223.696429</td>\n",
       "    </tr>\n",
       "    <tr>\n",
       "      <th>1</th>\n",
       "      <td>January</td>\n",
       "      <td>10261.553763</td>\n",
       "    </tr>\n",
       "  </tbody>\n",
       "</table>\n",
       "</div>"
      ],
      "text/plain": [
       "     months  number_of_trips\n",
       "0  February     13223.696429\n",
       "1   January     10261.553763"
      ]
     },
     "execution_count": 739,
     "metadata": {},
     "output_type": "execute_result"
    }
   ],
   "source": [
    "qq_3 = Uber_jan_feb.groupby('months').agg(number_of_trips =('trips','mean')).sort_values(by='number_of_trips' , ascending=False).reset_index()\n",
    "qq_3\n",
    "\n"
   ]
  },
  {
   "cell_type": "markdown",
   "metadata": {},
   "source": [
    "__4-What is the most commen day has trips ?__"
   ]
  },
  {
   "cell_type": "code",
   "execution_count": 740,
   "metadata": {},
   "outputs": [
    {
     "data": {
      "text/html": [
       "<div>\n",
       "<style scoped>\n",
       "    .dataframe tbody tr th:only-of-type {\n",
       "        vertical-align: middle;\n",
       "    }\n",
       "\n",
       "    .dataframe tbody tr th {\n",
       "        vertical-align: top;\n",
       "    }\n",
       "\n",
       "    .dataframe thead th {\n",
       "        text-align: right;\n",
       "    }\n",
       "</style>\n",
       "<table border=\"1\" class=\"dataframe\">\n",
       "  <thead>\n",
       "    <tr style=\"text-align: right;\">\n",
       "      <th></th>\n",
       "      <th>days</th>\n",
       "      <th>number_of_trips</th>\n",
       "    </tr>\n",
       "  </thead>\n",
       "  <tbody>\n",
       "    <tr>\n",
       "      <th>0</th>\n",
       "      <td>Saturday</td>\n",
       "      <td>751325</td>\n",
       "    </tr>\n",
       "    <tr>\n",
       "      <th>1</th>\n",
       "      <td>Friday</td>\n",
       "      <td>711192</td>\n",
       "    </tr>\n",
       "    <tr>\n",
       "      <th>2</th>\n",
       "      <td>Thursday</td>\n",
       "      <td>665647</td>\n",
       "    </tr>\n",
       "    <tr>\n",
       "      <th>3</th>\n",
       "      <td>Wednesday</td>\n",
       "      <td>531263</td>\n",
       "    </tr>\n",
       "    <tr>\n",
       "      <th>4</th>\n",
       "      <td>Sunday</td>\n",
       "      <td>523943</td>\n",
       "    </tr>\n",
       "    <tr>\n",
       "      <th>5</th>\n",
       "      <td>Tuesday</td>\n",
       "      <td>483061</td>\n",
       "    </tr>\n",
       "    <tr>\n",
       "      <th>6</th>\n",
       "      <td>Monday</td>\n",
       "      <td>463799</td>\n",
       "    </tr>\n",
       "  </tbody>\n",
       "</table>\n",
       "</div>"
      ],
      "text/plain": [
       "        days  number_of_trips\n",
       "0   Saturday           751325\n",
       "1     Friday           711192\n",
       "2   Thursday           665647\n",
       "3  Wednesday           531263\n",
       "4     Sunday           523943\n",
       "5    Tuesday           483061\n",
       "6     Monday           463799"
      ]
     },
     "execution_count": 740,
     "metadata": {},
     "output_type": "execute_result"
    }
   ],
   "source": [
    "q_4 = Uber_jan_feb.groupby('days').agg(number_of_trips =('trips','sum')).sort_values(by='number_of_trips' , ascending=False).reset_index()\n",
    "q_4\n"
   ]
  },
  {
   "cell_type": "code",
   "execution_count": 741,
   "metadata": {},
   "outputs": [
    {
     "data": {
      "text/html": [
       "<div>\n",
       "<style scoped>\n",
       "    .dataframe tbody tr th:only-of-type {\n",
       "        vertical-align: middle;\n",
       "    }\n",
       "\n",
       "    .dataframe tbody tr th {\n",
       "        vertical-align: top;\n",
       "    }\n",
       "\n",
       "    .dataframe thead th {\n",
       "        text-align: right;\n",
       "    }\n",
       "</style>\n",
       "<table border=\"1\" class=\"dataframe\">\n",
       "  <thead>\n",
       "    <tr style=\"text-align: right;\">\n",
       "      <th></th>\n",
       "      <th>days</th>\n",
       "      <th>number_of_trips</th>\n",
       "    </tr>\n",
       "  </thead>\n",
       "  <tbody>\n",
       "    <tr>\n",
       "      <th>0</th>\n",
       "      <td>Saturday</td>\n",
       "      <td>13913.425926</td>\n",
       "    </tr>\n",
       "    <tr>\n",
       "      <th>1</th>\n",
       "      <td>Friday</td>\n",
       "      <td>13170.222222</td>\n",
       "    </tr>\n",
       "    <tr>\n",
       "      <th>2</th>\n",
       "      <td>Thursday</td>\n",
       "      <td>12326.796296</td>\n",
       "    </tr>\n",
       "    <tr>\n",
       "      <th>3</th>\n",
       "      <td>Wednesday</td>\n",
       "      <td>11067.979167</td>\n",
       "    </tr>\n",
       "    <tr>\n",
       "      <th>4</th>\n",
       "      <td>Sunday</td>\n",
       "      <td>10915.479167</td>\n",
       "    </tr>\n",
       "    <tr>\n",
       "      <th>5</th>\n",
       "      <td>Tuesday</td>\n",
       "      <td>10063.770833</td>\n",
       "    </tr>\n",
       "    <tr>\n",
       "      <th>6</th>\n",
       "      <td>Monday</td>\n",
       "      <td>9662.479167</td>\n",
       "    </tr>\n",
       "  </tbody>\n",
       "</table>\n",
       "</div>"
      ],
      "text/plain": [
       "        days  number_of_trips\n",
       "0   Saturday     13913.425926\n",
       "1     Friday     13170.222222\n",
       "2   Thursday     12326.796296\n",
       "3  Wednesday     11067.979167\n",
       "4     Sunday     10915.479167\n",
       "5    Tuesday     10063.770833\n",
       "6     Monday      9662.479167"
      ]
     },
     "execution_count": 741,
     "metadata": {},
     "output_type": "execute_result"
    }
   ],
   "source": [
    "qq_4 = Uber_jan_feb.groupby('days').agg(number_of_trips =('trips','mean')).sort_values(by='number_of_trips' , ascending=False).reset_index()\n",
    "qq_4\n"
   ]
  },
  {
   "cell_type": "markdown",
   "metadata": {},
   "source": [
    "__5-Does the number of vehicles affects on number of trips ?__"
   ]
  },
  {
   "cell_type": "code",
   "execution_count": 742,
   "metadata": {},
   "outputs": [],
   "source": [
    "Uber_jan_feb['vehicles_affects_trips'] = np.where(Uber_jan_feb['active_vehicles'] < Uber_jan_feb['trips'], 'no' ,'yes')"
   ]
  },
  {
   "cell_type": "code",
   "execution_count": 743,
   "metadata": {},
   "outputs": [],
   "source": [
    "q_5 = Uber_jan_feb[Uber_jan_feb['vehicles_affects_trips'] == 'no']"
   ]
  },
  {
   "cell_type": "code",
   "execution_count": 744,
   "metadata": {},
   "outputs": [
    {
     "data": {
      "text/html": [
       "<div>\n",
       "<style scoped>\n",
       "    .dataframe tbody tr th:only-of-type {\n",
       "        vertical-align: middle;\n",
       "    }\n",
       "\n",
       "    .dataframe tbody tr th {\n",
       "        vertical-align: top;\n",
       "    }\n",
       "\n",
       "    .dataframe thead th {\n",
       "        text-align: right;\n",
       "    }\n",
       "</style>\n",
       "<table border=\"1\" class=\"dataframe\">\n",
       "  <thead>\n",
       "    <tr style=\"text-align: right;\">\n",
       "      <th></th>\n",
       "      <th>active_vehicles</th>\n",
       "      <th>trips</th>\n",
       "    </tr>\n",
       "  </thead>\n",
       "  <tbody>\n",
       "    <tr>\n",
       "      <th>active_vehicles</th>\n",
       "      <td>1.000000</td>\n",
       "      <td>0.980493</td>\n",
       "    </tr>\n",
       "    <tr>\n",
       "      <th>trips</th>\n",
       "      <td>0.980493</td>\n",
       "      <td>1.000000</td>\n",
       "    </tr>\n",
       "  </tbody>\n",
       "</table>\n",
       "</div>"
      ],
      "text/plain": [
       "                 active_vehicles     trips\n",
       "active_vehicles         1.000000  0.980493\n",
       "trips                   0.980493  1.000000"
      ]
     },
     "execution_count": 744,
     "metadata": {},
     "output_type": "execute_result"
    }
   ],
   "source": [
    "qq_5 = Uber_jan_feb[['active_vehicles','trips']].corr()\n",
    "qq_5 \n",
    "\n"
   ]
  },
  {
   "cell_type": "code",
   "execution_count": 745,
   "metadata": {},
   "outputs": [
    {
     "data": {
      "text/plain": [
       "<AxesSubplot:>"
      ]
     },
     "execution_count": 745,
     "metadata": {},
     "output_type": "execute_result"
    },
    {
     "data": {
      "image/png": "[encoded data removed]",
      "text/plain": [
       "<Figure size 640x480 with 2 Axes>"
      ]
     },
     "metadata": {},
     "output_type": "display_data"
    }
   ],
   "source": [
    "sas.heatmap(Uber_jan_feb.corr())"
   ]
  },
  {
   "cell_type": "markdown",
   "metadata": {},
   "source": [
    "__6-What is the total number of trips ?__"
   ]
  },
  {
   "cell_type": "code",
   "execution_count": 746,
   "metadata": {},
   "outputs": [
    {
     "data": {
      "text/html": [
       "<div>\n",
       "<style scoped>\n",
       "    .dataframe tbody tr th:only-of-type {\n",
       "        vertical-align: middle;\n",
       "    }\n",
       "\n",
       "    .dataframe tbody tr th {\n",
       "        vertical-align: top;\n",
       "    }\n",
       "\n",
       "    .dataframe thead th {\n",
       "        text-align: right;\n",
       "    }\n",
       "</style>\n",
       "<table border=\"1\" class=\"dataframe\">\n",
       "  <thead>\n",
       "    <tr style=\"text-align: right;\">\n",
       "      <th></th>\n",
       "      <th>0</th>\n",
       "    </tr>\n",
       "  </thead>\n",
       "  <tbody>\n",
       "    <tr>\n",
       "      <th>0</th>\n",
       "      <td>4130230</td>\n",
       "    </tr>\n",
       "  </tbody>\n",
       "</table>\n",
       "</div>"
      ],
      "text/plain": [
       "         0\n",
       "0  4130230"
      ]
     },
     "execution_count": 746,
     "metadata": {},
     "output_type": "execute_result"
    }
   ],
   "source": [
    "q_6 = pd.Series(Uber_jan_feb.trips.sum())\n",
    "q_6 = pd.DataFrame(q_6)\n",
    "q_6 \n"
   ]
  },
  {
   "cell_type": "markdown",
   "metadata": {},
   "source": [
    "__7-How many vehicles we have in this period ?__"
   ]
  },
  {
   "cell_type": "code",
   "execution_count": 747,
   "metadata": {},
   "outputs": [
    {
     "data": {
      "text/html": [
       "<div>\n",
       "<style scoped>\n",
       "    .dataframe tbody tr th:only-of-type {\n",
       "        vertical-align: middle;\n",
       "    }\n",
       "\n",
       "    .dataframe tbody tr th {\n",
       "        vertical-align: top;\n",
       "    }\n",
       "\n",
       "    .dataframe thead th {\n",
       "        text-align: right;\n",
       "    }\n",
       "</style>\n",
       "<table border=\"1\" class=\"dataframe\">\n",
       "  <thead>\n",
       "    <tr style=\"text-align: right;\">\n",
       "      <th></th>\n",
       "      <th>0</th>\n",
       "    </tr>\n",
       "  </thead>\n",
       "  <tbody>\n",
       "    <tr>\n",
       "      <th>0</th>\n",
       "      <td>4130230</td>\n",
       "    </tr>\n",
       "  </tbody>\n",
       "</table>\n",
       "</div>"
      ],
      "text/plain": [
       "         0\n",
       "0  4130230"
      ]
     },
     "execution_count": 747,
     "metadata": {},
     "output_type": "execute_result"
    }
   ],
   "source": [
    "q_7 = pd.Series(Uber_jan_feb.active_vehicles.sum())\n",
    "q_7 = pd.DataFrame(q_6)\n",
    "q_7\n"
   ]
  },
  {
   "cell_type": "markdown",
   "metadata": {},
   "source": [
    "__8-What is the average and total of trips for each day ?__"
   ]
  },
  {
   "cell_type": "code",
   "execution_count": 748,
   "metadata": {},
   "outputs": [
    {
     "data": {
      "text/html": [
       "<div>\n",
       "<style scoped>\n",
       "    .dataframe tbody tr th:only-of-type {\n",
       "        vertical-align: middle;\n",
       "    }\n",
       "\n",
       "    .dataframe tbody tr th {\n",
       "        vertical-align: top;\n",
       "    }\n",
       "\n",
       "    .dataframe thead th {\n",
       "        text-align: right;\n",
       "    }\n",
       "</style>\n",
       "<table border=\"1\" class=\"dataframe\">\n",
       "  <thead>\n",
       "    <tr style=\"text-align: right;\">\n",
       "      <th></th>\n",
       "      <th>date</th>\n",
       "      <th>trips</th>\n",
       "    </tr>\n",
       "  </thead>\n",
       "  <tbody>\n",
       "    <tr>\n",
       "      <th>0</th>\n",
       "      <td>2015-01-01</td>\n",
       "      <td>9406</td>\n",
       "    </tr>\n",
       "    <tr>\n",
       "      <th>1</th>\n",
       "      <td>2015-01-02</td>\n",
       "      <td>6532</td>\n",
       "    </tr>\n",
       "    <tr>\n",
       "      <th>2</th>\n",
       "      <td>2015-01-03</td>\n",
       "      <td>9742</td>\n",
       "    </tr>\n",
       "    <tr>\n",
       "      <th>3</th>\n",
       "      <td>2015-01-04</td>\n",
       "      <td>6800</td>\n",
       "    </tr>\n",
       "    <tr>\n",
       "      <th>4</th>\n",
       "      <td>2015-01-05</td>\n",
       "      <td>7125</td>\n",
       "    </tr>\n",
       "    <tr>\n",
       "      <th>5</th>\n",
       "      <td>2015-01-06</td>\n",
       "      <td>8738</td>\n",
       "    </tr>\n",
       "    <tr>\n",
       "      <th>6</th>\n",
       "      <td>2015-01-07</td>\n",
       "      <td>10350</td>\n",
       "    </tr>\n",
       "    <tr>\n",
       "      <th>7</th>\n",
       "      <td>2015-01-08</td>\n",
       "      <td>11902</td>\n",
       "    </tr>\n",
       "    <tr>\n",
       "      <th>8</th>\n",
       "      <td>2015-01-09</td>\n",
       "      <td>11716</td>\n",
       "    </tr>\n",
       "    <tr>\n",
       "      <th>9</th>\n",
       "      <td>2015-01-10</td>\n",
       "      <td>13081</td>\n",
       "    </tr>\n",
       "    <tr>\n",
       "      <th>10</th>\n",
       "      <td>2015-01-11</td>\n",
       "      <td>9504</td>\n",
       "    </tr>\n",
       "    <tr>\n",
       "      <th>11</th>\n",
       "      <td>2015-01-12</td>\n",
       "      <td>9608</td>\n",
       "    </tr>\n",
       "    <tr>\n",
       "      <th>12</th>\n",
       "      <td>2015-01-13</td>\n",
       "      <td>10583</td>\n",
       "    </tr>\n",
       "    <tr>\n",
       "      <th>13</th>\n",
       "      <td>2015-01-14</td>\n",
       "      <td>10555</td>\n",
       "    </tr>\n",
       "    <tr>\n",
       "      <th>14</th>\n",
       "      <td>2015-01-15</td>\n",
       "      <td>11122</td>\n",
       "    </tr>\n",
       "    <tr>\n",
       "      <th>15</th>\n",
       "      <td>2015-01-16</td>\n",
       "      <td>12080</td>\n",
       "    </tr>\n",
       "    <tr>\n",
       "      <th>16</th>\n",
       "      <td>2015-01-17</td>\n",
       "      <td>12227</td>\n",
       "    </tr>\n",
       "    <tr>\n",
       "      <th>17</th>\n",
       "      <td>2015-01-18</td>\n",
       "      <td>12079</td>\n",
       "    </tr>\n",
       "    <tr>\n",
       "      <th>18</th>\n",
       "      <td>2015-01-19</td>\n",
       "      <td>7626</td>\n",
       "    </tr>\n",
       "    <tr>\n",
       "      <th>19</th>\n",
       "      <td>2015-01-20</td>\n",
       "      <td>9129</td>\n",
       "    </tr>\n",
       "    <tr>\n",
       "      <th>20</th>\n",
       "      <td>2015-01-21</td>\n",
       "      <td>9858</td>\n",
       "    </tr>\n",
       "    <tr>\n",
       "      <th>21</th>\n",
       "      <td>2015-01-22</td>\n",
       "      <td>10934</td>\n",
       "    </tr>\n",
       "    <tr>\n",
       "      <th>22</th>\n",
       "      <td>2015-01-23</td>\n",
       "      <td>11970</td>\n",
       "    </tr>\n",
       "    <tr>\n",
       "      <th>23</th>\n",
       "      <td>2015-01-24</td>\n",
       "      <td>13452</td>\n",
       "    </tr>\n",
       "    <tr>\n",
       "      <th>24</th>\n",
       "      <td>2015-01-25</td>\n",
       "      <td>9649</td>\n",
       "    </tr>\n",
       "    <tr>\n",
       "      <th>25</th>\n",
       "      <td>2015-01-26</td>\n",
       "      <td>7232</td>\n",
       "    </tr>\n",
       "    <tr>\n",
       "      <th>26</th>\n",
       "      <td>2015-01-27</td>\n",
       "      <td>4207</td>\n",
       "    </tr>\n",
       "    <tr>\n",
       "      <th>27</th>\n",
       "      <td>2015-01-28</td>\n",
       "      <td>10074</td>\n",
       "    </tr>\n",
       "    <tr>\n",
       "      <th>28</th>\n",
       "      <td>2015-01-29</td>\n",
       "      <td>11499</td>\n",
       "    </tr>\n",
       "    <tr>\n",
       "      <th>29</th>\n",
       "      <td>2015-01-30</td>\n",
       "      <td>13954</td>\n",
       "    </tr>\n",
       "    <tr>\n",
       "      <th>30</th>\n",
       "      <td>2015-01-31</td>\n",
       "      <td>15376</td>\n",
       "    </tr>\n",
       "    <tr>\n",
       "      <th>31</th>\n",
       "      <td>2015-02-01</td>\n",
       "      <td>12818</td>\n",
       "    </tr>\n",
       "    <tr>\n",
       "      <th>32</th>\n",
       "      <td>2015-02-02</td>\n",
       "      <td>11497</td>\n",
       "    </tr>\n",
       "    <tr>\n",
       "      <th>33</th>\n",
       "      <td>2015-02-03</td>\n",
       "      <td>11698</td>\n",
       "    </tr>\n",
       "    <tr>\n",
       "      <th>34</th>\n",
       "      <td>2015-02-04</td>\n",
       "      <td>11139</td>\n",
       "    </tr>\n",
       "    <tr>\n",
       "      <th>35</th>\n",
       "      <td>2015-02-05</td>\n",
       "      <td>13486</td>\n",
       "    </tr>\n",
       "    <tr>\n",
       "      <th>36</th>\n",
       "      <td>2015-02-06</td>\n",
       "      <td>14323</td>\n",
       "    </tr>\n",
       "    <tr>\n",
       "      <th>37</th>\n",
       "      <td>2015-02-07</td>\n",
       "      <td>13526</td>\n",
       "    </tr>\n",
       "    <tr>\n",
       "      <th>38</th>\n",
       "      <td>2015-02-08</td>\n",
       "      <td>10500</td>\n",
       "    </tr>\n",
       "    <tr>\n",
       "      <th>39</th>\n",
       "      <td>2015-02-09</td>\n",
       "      <td>10326</td>\n",
       "    </tr>\n",
       "    <tr>\n",
       "      <th>40</th>\n",
       "      <td>2015-02-10</td>\n",
       "      <td>10794</td>\n",
       "    </tr>\n",
       "    <tr>\n",
       "      <th>41</th>\n",
       "      <td>2015-02-11</td>\n",
       "      <td>12078</td>\n",
       "    </tr>\n",
       "    <tr>\n",
       "      <th>42</th>\n",
       "      <td>2015-02-12</td>\n",
       "      <td>13872</td>\n",
       "    </tr>\n",
       "    <tr>\n",
       "      <th>43</th>\n",
       "      <td>2015-02-13</td>\n",
       "      <td>16337</td>\n",
       "    </tr>\n",
       "    <tr>\n",
       "      <th>44</th>\n",
       "      <td>2015-02-14</td>\n",
       "      <td>16724</td>\n",
       "    </tr>\n",
       "    <tr>\n",
       "      <th>45</th>\n",
       "      <td>2015-02-15</td>\n",
       "      <td>14900</td>\n",
       "    </tr>\n",
       "    <tr>\n",
       "      <th>46</th>\n",
       "      <td>2015-02-16</td>\n",
       "      <td>12016</td>\n",
       "    </tr>\n",
       "    <tr>\n",
       "      <th>47</th>\n",
       "      <td>2015-02-17</td>\n",
       "      <td>12175</td>\n",
       "    </tr>\n",
       "    <tr>\n",
       "      <th>48</th>\n",
       "      <td>2015-02-18</td>\n",
       "      <td>12040</td>\n",
       "    </tr>\n",
       "    <tr>\n",
       "      <th>49</th>\n",
       "      <td>2015-02-19</td>\n",
       "      <td>14793</td>\n",
       "    </tr>\n",
       "    <tr>\n",
       "      <th>50</th>\n",
       "      <td>2015-02-20</td>\n",
       "      <td>16819</td>\n",
       "    </tr>\n",
       "    <tr>\n",
       "      <th>51</th>\n",
       "      <td>2015-02-21</td>\n",
       "      <td>16397</td>\n",
       "    </tr>\n",
       "    <tr>\n",
       "      <th>52</th>\n",
       "      <td>2015-02-22</td>\n",
       "      <td>11073</td>\n",
       "    </tr>\n",
       "    <tr>\n",
       "      <th>53</th>\n",
       "      <td>2015-02-23</td>\n",
       "      <td>11870</td>\n",
       "    </tr>\n",
       "    <tr>\n",
       "      <th>54</th>\n",
       "      <td>2015-02-24</td>\n",
       "      <td>13186</td>\n",
       "    </tr>\n",
       "    <tr>\n",
       "      <th>55</th>\n",
       "      <td>2015-02-25</td>\n",
       "      <td>12448</td>\n",
       "    </tr>\n",
       "    <tr>\n",
       "      <th>56</th>\n",
       "      <td>2015-02-26</td>\n",
       "      <td>13928</td>\n",
       "    </tr>\n",
       "    <tr>\n",
       "      <th>57</th>\n",
       "      <td>2015-02-27</td>\n",
       "      <td>14801</td>\n",
       "    </tr>\n",
       "    <tr>\n",
       "      <th>58</th>\n",
       "      <td>2015-02-28</td>\n",
       "      <td>14697</td>\n",
       "    </tr>\n",
       "  </tbody>\n",
       "</table>\n",
       "</div>"
      ],
      "text/plain": [
       "         date  trips\n",
       "0  2015-01-01   9406\n",
       "1  2015-01-02   6532\n",
       "2  2015-01-03   9742\n",
       "3  2015-01-04   6800\n",
       "4  2015-01-05   7125\n",
       "5  2015-01-06   8738\n",
       "6  2015-01-07  10350\n",
       "7  2015-01-08  11902\n",
       "8  2015-01-09  11716\n",
       "9  2015-01-10  13081\n",
       "10 2015-01-11   9504\n",
       "11 2015-01-12   9608\n",
       "12 2015-01-13  10583\n",
       "13 2015-01-14  10555\n",
       "14 2015-01-15  11122\n",
       "15 2015-01-16  12080\n",
       "16 2015-01-17  12227\n",
       "17 2015-01-18  12079\n",
       "18 2015-01-19   7626\n",
       "19 2015-01-20   9129\n",
       "20 2015-01-21   9858\n",
       "21 2015-01-22  10934\n",
       "22 2015-01-23  11970\n",
       "23 2015-01-24  13452\n",
       "24 2015-01-25   9649\n",
       "25 2015-01-26   7232\n",
       "26 2015-01-27   4207\n",
       "27 2015-01-28  10074\n",
       "28 2015-01-29  11499\n",
       "29 2015-01-30  13954\n",
       "30 2015-01-31  15376\n",
       "31 2015-02-01  12818\n",
       "32 2015-02-02  11497\n",
       "33 2015-02-03  11698\n",
       "34 2015-02-04  11139\n",
       "35 2015-02-05  13486\n",
       "36 2015-02-06  14323\n",
       "37 2015-02-07  13526\n",
       "38 2015-02-08  10500\n",
       "39 2015-02-09  10326\n",
       "40 2015-02-10  10794\n",
       "41 2015-02-11  12078\n",
       "42 2015-02-12  13872\n",
       "43 2015-02-13  16337\n",
       "44 2015-02-14  16724\n",
       "45 2015-02-15  14900\n",
       "46 2015-02-16  12016\n",
       "47 2015-02-17  12175\n",
       "48 2015-02-18  12040\n",
       "49 2015-02-19  14793\n",
       "50 2015-02-20  16819\n",
       "51 2015-02-21  16397\n",
       "52 2015-02-22  11073\n",
       "53 2015-02-23  11870\n",
       "54 2015-02-24  13186\n",
       "55 2015-02-25  12448\n",
       "56 2015-02-26  13928\n",
       "57 2015-02-27  14801\n",
       "58 2015-02-28  14697"
      ]
     },
     "execution_count": 748,
     "metadata": {},
     "output_type": "execute_result"
    }
   ],
   "source": [
    "q_8 = Uber_jan_feb.set_index('date')\n",
    "q_8 = pd.DataFrame(round(q_8.loc[:,'trips'].resample('D').mean())).reset_index()\n",
    "q_8.trips = q_8.trips.astype('i')\n",
    "q_8\n",
    "\n",
    "\n"
   ]
  },
  {
   "cell_type": "code",
   "execution_count": 749,
   "metadata": {},
   "outputs": [
    {
     "data": {
      "text/html": [
       "<div>\n",
       "<style scoped>\n",
       "    .dataframe tbody tr th:only-of-type {\n",
       "        vertical-align: middle;\n",
       "    }\n",
       "\n",
       "    .dataframe tbody tr th {\n",
       "        vertical-align: top;\n",
       "    }\n",
       "\n",
       "    .dataframe thead th {\n",
       "        text-align: right;\n",
       "    }\n",
       "</style>\n",
       "<table border=\"1\" class=\"dataframe\">\n",
       "  <thead>\n",
       "    <tr style=\"text-align: right;\">\n",
       "      <th></th>\n",
       "      <th>date</th>\n",
       "      <th>trips</th>\n",
       "    </tr>\n",
       "  </thead>\n",
       "  <tbody>\n",
       "    <tr>\n",
       "      <th>0</th>\n",
       "      <td>2015-01-01</td>\n",
       "      <td>56437</td>\n",
       "    </tr>\n",
       "    <tr>\n",
       "      <th>1</th>\n",
       "      <td>2015-01-02</td>\n",
       "      <td>39189</td>\n",
       "    </tr>\n",
       "    <tr>\n",
       "      <th>2</th>\n",
       "      <td>2015-01-03</td>\n",
       "      <td>58449</td>\n",
       "    </tr>\n",
       "    <tr>\n",
       "      <th>3</th>\n",
       "      <td>2015-01-04</td>\n",
       "      <td>40798</td>\n",
       "    </tr>\n",
       "    <tr>\n",
       "      <th>4</th>\n",
       "      <td>2015-01-05</td>\n",
       "      <td>42752</td>\n",
       "    </tr>\n",
       "    <tr>\n",
       "      <th>5</th>\n",
       "      <td>2015-01-06</td>\n",
       "      <td>52426</td>\n",
       "    </tr>\n",
       "    <tr>\n",
       "      <th>6</th>\n",
       "      <td>2015-01-07</td>\n",
       "      <td>62102</td>\n",
       "    </tr>\n",
       "    <tr>\n",
       "      <th>7</th>\n",
       "      <td>2015-01-08</td>\n",
       "      <td>71413</td>\n",
       "    </tr>\n",
       "    <tr>\n",
       "      <th>8</th>\n",
       "      <td>2015-01-09</td>\n",
       "      <td>70296</td>\n",
       "    </tr>\n",
       "    <tr>\n",
       "      <th>9</th>\n",
       "      <td>2015-01-10</td>\n",
       "      <td>78484</td>\n",
       "    </tr>\n",
       "    <tr>\n",
       "      <th>10</th>\n",
       "      <td>2015-01-11</td>\n",
       "      <td>57026</td>\n",
       "    </tr>\n",
       "    <tr>\n",
       "      <th>11</th>\n",
       "      <td>2015-01-12</td>\n",
       "      <td>57646</td>\n",
       "    </tr>\n",
       "    <tr>\n",
       "      <th>12</th>\n",
       "      <td>2015-01-13</td>\n",
       "      <td>63499</td>\n",
       "    </tr>\n",
       "    <tr>\n",
       "      <th>13</th>\n",
       "      <td>2015-01-14</td>\n",
       "      <td>63329</td>\n",
       "    </tr>\n",
       "    <tr>\n",
       "      <th>14</th>\n",
       "      <td>2015-01-15</td>\n",
       "      <td>66729</td>\n",
       "    </tr>\n",
       "    <tr>\n",
       "      <th>15</th>\n",
       "      <td>2015-01-16</td>\n",
       "      <td>72480</td>\n",
       "    </tr>\n",
       "    <tr>\n",
       "      <th>16</th>\n",
       "      <td>2015-01-17</td>\n",
       "      <td>73363</td>\n",
       "    </tr>\n",
       "    <tr>\n",
       "      <th>17</th>\n",
       "      <td>2015-01-18</td>\n",
       "      <td>72473</td>\n",
       "    </tr>\n",
       "    <tr>\n",
       "      <th>18</th>\n",
       "      <td>2015-01-19</td>\n",
       "      <td>45755</td>\n",
       "    </tr>\n",
       "    <tr>\n",
       "      <th>19</th>\n",
       "      <td>2015-01-20</td>\n",
       "      <td>54772</td>\n",
       "    </tr>\n",
       "    <tr>\n",
       "      <th>20</th>\n",
       "      <td>2015-01-21</td>\n",
       "      <td>59147</td>\n",
       "    </tr>\n",
       "    <tr>\n",
       "      <th>21</th>\n",
       "      <td>2015-01-22</td>\n",
       "      <td>65602</td>\n",
       "    </tr>\n",
       "    <tr>\n",
       "      <th>22</th>\n",
       "      <td>2015-01-23</td>\n",
       "      <td>71819</td>\n",
       "    </tr>\n",
       "    <tr>\n",
       "      <th>23</th>\n",
       "      <td>2015-01-24</td>\n",
       "      <td>80709</td>\n",
       "    </tr>\n",
       "    <tr>\n",
       "      <th>24</th>\n",
       "      <td>2015-01-25</td>\n",
       "      <td>57895</td>\n",
       "    </tr>\n",
       "    <tr>\n",
       "      <th>25</th>\n",
       "      <td>2015-01-26</td>\n",
       "      <td>43395</td>\n",
       "    </tr>\n",
       "    <tr>\n",
       "      <th>26</th>\n",
       "      <td>2015-01-27</td>\n",
       "      <td>25244</td>\n",
       "    </tr>\n",
       "    <tr>\n",
       "      <th>27</th>\n",
       "      <td>2015-01-28</td>\n",
       "      <td>60446</td>\n",
       "    </tr>\n",
       "    <tr>\n",
       "      <th>28</th>\n",
       "      <td>2015-01-29</td>\n",
       "      <td>68994</td>\n",
       "    </tr>\n",
       "    <tr>\n",
       "      <th>29</th>\n",
       "      <td>2015-01-30</td>\n",
       "      <td>83723</td>\n",
       "    </tr>\n",
       "    <tr>\n",
       "      <th>30</th>\n",
       "      <td>2015-01-31</td>\n",
       "      <td>92257</td>\n",
       "    </tr>\n",
       "    <tr>\n",
       "      <th>31</th>\n",
       "      <td>2015-02-01</td>\n",
       "      <td>76910</td>\n",
       "    </tr>\n",
       "    <tr>\n",
       "      <th>32</th>\n",
       "      <td>2015-02-02</td>\n",
       "      <td>68980</td>\n",
       "    </tr>\n",
       "    <tr>\n",
       "      <th>33</th>\n",
       "      <td>2015-02-03</td>\n",
       "      <td>70188</td>\n",
       "    </tr>\n",
       "    <tr>\n",
       "      <th>34</th>\n",
       "      <td>2015-02-04</td>\n",
       "      <td>66835</td>\n",
       "    </tr>\n",
       "    <tr>\n",
       "      <th>35</th>\n",
       "      <td>2015-02-05</td>\n",
       "      <td>80913</td>\n",
       "    </tr>\n",
       "    <tr>\n",
       "      <th>36</th>\n",
       "      <td>2015-02-06</td>\n",
       "      <td>85940</td>\n",
       "    </tr>\n",
       "    <tr>\n",
       "      <th>37</th>\n",
       "      <td>2015-02-07</td>\n",
       "      <td>81157</td>\n",
       "    </tr>\n",
       "    <tr>\n",
       "      <th>38</th>\n",
       "      <td>2015-02-08</td>\n",
       "      <td>63000</td>\n",
       "    </tr>\n",
       "    <tr>\n",
       "      <th>39</th>\n",
       "      <td>2015-02-09</td>\n",
       "      <td>61956</td>\n",
       "    </tr>\n",
       "    <tr>\n",
       "      <th>40</th>\n",
       "      <td>2015-02-10</td>\n",
       "      <td>64766</td>\n",
       "    </tr>\n",
       "    <tr>\n",
       "      <th>41</th>\n",
       "      <td>2015-02-11</td>\n",
       "      <td>72470</td>\n",
       "    </tr>\n",
       "    <tr>\n",
       "      <th>42</th>\n",
       "      <td>2015-02-12</td>\n",
       "      <td>83234</td>\n",
       "    </tr>\n",
       "    <tr>\n",
       "      <th>43</th>\n",
       "      <td>2015-02-13</td>\n",
       "      <td>98024</td>\n",
       "    </tr>\n",
       "    <tr>\n",
       "      <th>44</th>\n",
       "      <td>2015-02-14</td>\n",
       "      <td>100345</td>\n",
       "    </tr>\n",
       "    <tr>\n",
       "      <th>45</th>\n",
       "      <td>2015-02-15</td>\n",
       "      <td>89401</td>\n",
       "    </tr>\n",
       "    <tr>\n",
       "      <th>46</th>\n",
       "      <td>2015-02-16</td>\n",
       "      <td>72098</td>\n",
       "    </tr>\n",
       "    <tr>\n",
       "      <th>47</th>\n",
       "      <td>2015-02-17</td>\n",
       "      <td>73051</td>\n",
       "    </tr>\n",
       "    <tr>\n",
       "      <th>48</th>\n",
       "      <td>2015-02-18</td>\n",
       "      <td>72243</td>\n",
       "    </tr>\n",
       "    <tr>\n",
       "      <th>49</th>\n",
       "      <td>2015-02-19</td>\n",
       "      <td>88757</td>\n",
       "    </tr>\n",
       "    <tr>\n",
       "      <th>50</th>\n",
       "      <td>2015-02-20</td>\n",
       "      <td>100915</td>\n",
       "    </tr>\n",
       "    <tr>\n",
       "      <th>51</th>\n",
       "      <td>2015-02-21</td>\n",
       "      <td>98380</td>\n",
       "    </tr>\n",
       "    <tr>\n",
       "      <th>52</th>\n",
       "      <td>2015-02-22</td>\n",
       "      <td>66440</td>\n",
       "    </tr>\n",
       "    <tr>\n",
       "      <th>53</th>\n",
       "      <td>2015-02-23</td>\n",
       "      <td>71217</td>\n",
       "    </tr>\n",
       "    <tr>\n",
       "      <th>54</th>\n",
       "      <td>2015-02-24</td>\n",
       "      <td>79115</td>\n",
       "    </tr>\n",
       "    <tr>\n",
       "      <th>55</th>\n",
       "      <td>2015-02-25</td>\n",
       "      <td>74691</td>\n",
       "    </tr>\n",
       "    <tr>\n",
       "      <th>56</th>\n",
       "      <td>2015-02-26</td>\n",
       "      <td>83568</td>\n",
       "    </tr>\n",
       "    <tr>\n",
       "      <th>57</th>\n",
       "      <td>2015-02-27</td>\n",
       "      <td>88806</td>\n",
       "    </tr>\n",
       "    <tr>\n",
       "      <th>58</th>\n",
       "      <td>2015-02-28</td>\n",
       "      <td>88181</td>\n",
       "    </tr>\n",
       "  </tbody>\n",
       "</table>\n",
       "</div>"
      ],
      "text/plain": [
       "         date   trips\n",
       "0  2015-01-01   56437\n",
       "1  2015-01-02   39189\n",
       "2  2015-01-03   58449\n",
       "3  2015-01-04   40798\n",
       "4  2015-01-05   42752\n",
       "5  2015-01-06   52426\n",
       "6  2015-01-07   62102\n",
       "7  2015-01-08   71413\n",
       "8  2015-01-09   70296\n",
       "9  2015-01-10   78484\n",
       "10 2015-01-11   57026\n",
       "11 2015-01-12   57646\n",
       "12 2015-01-13   63499\n",
       "13 2015-01-14   63329\n",
       "14 2015-01-15   66729\n",
       "15 2015-01-16   72480\n",
       "16 2015-01-17   73363\n",
       "17 2015-01-18   72473\n",
       "18 2015-01-19   45755\n",
       "19 2015-01-20   54772\n",
       "20 2015-01-21   59147\n",
       "21 2015-01-22   65602\n",
       "22 2015-01-23   71819\n",
       "23 2015-01-24   80709\n",
       "24 2015-01-25   57895\n",
       "25 2015-01-26   43395\n",
       "26 2015-01-27   25244\n",
       "27 2015-01-28   60446\n",
       "28 2015-01-29   68994\n",
       "29 2015-01-30   83723\n",
       "30 2015-01-31   92257\n",
       "31 2015-02-01   76910\n",
       "32 2015-02-02   68980\n",
       "33 2015-02-03   70188\n",
       "34 2015-02-04   66835\n",
       "35 2015-02-05   80913\n",
       "36 2015-02-06   85940\n",
       "37 2015-02-07   81157\n",
       "38 2015-02-08   63000\n",
       "39 2015-02-09   61956\n",
       "40 2015-02-10   64766\n",
       "41 2015-02-11   72470\n",
       "42 2015-02-12   83234\n",
       "43 2015-02-13   98024\n",
       "44 2015-02-14  100345\n",
       "45 2015-02-15   89401\n",
       "46 2015-02-16   72098\n",
       "47 2015-02-17   73051\n",
       "48 2015-02-18   72243\n",
       "49 2015-02-19   88757\n",
       "50 2015-02-20  100915\n",
       "51 2015-02-21   98380\n",
       "52 2015-02-22   66440\n",
       "53 2015-02-23   71217\n",
       "54 2015-02-24   79115\n",
       "55 2015-02-25   74691\n",
       "56 2015-02-26   83568\n",
       "57 2015-02-27   88806\n",
       "58 2015-02-28   88181"
      ]
     },
     "execution_count": 749,
     "metadata": {},
     "output_type": "execute_result"
    }
   ],
   "source": [
    "q_8 = Uber_jan_feb.set_index('date')\n",
    "q_8 = pd.DataFrame(round(q_8.loc[:,'trips'].resample('D').sum())).reset_index()\n",
    "q_8\n"
   ]
  },
  {
   "cell_type": "markdown",
   "metadata": {},
   "source": [
    "__9-What is the most dispatching base number has vehicles ?__"
   ]
  },
  {
   "cell_type": "code",
   "execution_count": 750,
   "metadata": {},
   "outputs": [
    {
     "data": {
      "text/html": [
       "<div>\n",
       "<style scoped>\n",
       "    .dataframe tbody tr th:only-of-type {\n",
       "        vertical-align: middle;\n",
       "    }\n",
       "\n",
       "    .dataframe tbody tr th {\n",
       "        vertical-align: top;\n",
       "    }\n",
       "\n",
       "    .dataframe thead th {\n",
       "        text-align: right;\n",
       "    }\n",
       "</style>\n",
       "<table border=\"1\" class=\"dataframe\">\n",
       "  <thead>\n",
       "    <tr style=\"text-align: right;\">\n",
       "      <th></th>\n",
       "      <th>dispatching_base_number</th>\n",
       "      <th>Total_numberof_vehicles</th>\n",
       "    </tr>\n",
       "  </thead>\n",
       "  <tbody>\n",
       "    <tr>\n",
       "      <th>0</th>\n",
       "      <td>B02764</td>\n",
       "      <td>217290</td>\n",
       "    </tr>\n",
       "    <tr>\n",
       "      <th>1</th>\n",
       "      <td>B02617</td>\n",
       "      <td>79758</td>\n",
       "    </tr>\n",
       "    <tr>\n",
       "      <th>2</th>\n",
       "      <td>B02682</td>\n",
       "      <td>71431</td>\n",
       "    </tr>\n",
       "    <tr>\n",
       "      <th>3</th>\n",
       "      <td>B02598</td>\n",
       "      <td>58653</td>\n",
       "    </tr>\n",
       "    <tr>\n",
       "      <th>4</th>\n",
       "      <td>B02765</td>\n",
       "      <td>22575</td>\n",
       "    </tr>\n",
       "    <tr>\n",
       "      <th>5</th>\n",
       "      <td>B02512</td>\n",
       "      <td>13125</td>\n",
       "    </tr>\n",
       "  </tbody>\n",
       "</table>\n",
       "</div>"
      ],
      "text/plain": [
       "  dispatching_base_number  Total_numberof_vehicles\n",
       "0                  B02764                   217290\n",
       "1                  B02617                    79758\n",
       "2                  B02682                    71431\n",
       "3                  B02598                    58653\n",
       "4                  B02765                    22575\n",
       "5                  B02512                    13125"
      ]
     },
     "execution_count": 750,
     "metadata": {},
     "output_type": "execute_result"
    }
   ],
   "source": [
    "q_9 = Uber_jan_feb.groupby('dispatching_base_number').agg(Total_numberof_vehicles = ('active_vehicles','sum')).sort_values(by = 'Total_numberof_vehicles' , ascending = False).reset_index()\n",
    "q_9"
   ]
  },
  {
   "cell_type": "markdown",
   "metadata": {},
   "source": [
    "__10-How many dispatching base number we have ?__"
   ]
  },
  {
   "cell_type": "code",
   "execution_count": 751,
   "metadata": {},
   "outputs": [
    {
     "data": {
      "text/html": [
       "<div>\n",
       "<style scoped>\n",
       "    .dataframe tbody tr th:only-of-type {\n",
       "        vertical-align: middle;\n",
       "    }\n",
       "\n",
       "    .dataframe tbody tr th {\n",
       "        vertical-align: top;\n",
       "    }\n",
       "\n",
       "    .dataframe thead th {\n",
       "        text-align: right;\n",
       "    }\n",
       "</style>\n",
       "<table border=\"1\" class=\"dataframe\">\n",
       "  <thead>\n",
       "    <tr style=\"text-align: right;\">\n",
       "      <th></th>\n",
       "      <th>dispatching_base_number</th>\n",
       "      <th>number_of_dispatching</th>\n",
       "    </tr>\n",
       "  </thead>\n",
       "  <tbody>\n",
       "    <tr>\n",
       "      <th>0</th>\n",
       "      <td>B02512</td>\n",
       "      <td>59</td>\n",
       "    </tr>\n",
       "    <tr>\n",
       "      <th>1</th>\n",
       "      <td>B02765</td>\n",
       "      <td>59</td>\n",
       "    </tr>\n",
       "    <tr>\n",
       "      <th>2</th>\n",
       "      <td>B02764</td>\n",
       "      <td>59</td>\n",
       "    </tr>\n",
       "    <tr>\n",
       "      <th>3</th>\n",
       "      <td>B02682</td>\n",
       "      <td>59</td>\n",
       "    </tr>\n",
       "    <tr>\n",
       "      <th>4</th>\n",
       "      <td>B02617</td>\n",
       "      <td>59</td>\n",
       "    </tr>\n",
       "    <tr>\n",
       "      <th>5</th>\n",
       "      <td>B02598</td>\n",
       "      <td>59</td>\n",
       "    </tr>\n",
       "  </tbody>\n",
       "</table>\n",
       "</div>"
      ],
      "text/plain": [
       "  dispatching_base_number  number_of_dispatching\n",
       "0                  B02512                     59\n",
       "1                  B02765                     59\n",
       "2                  B02764                     59\n",
       "3                  B02682                     59\n",
       "4                  B02617                     59\n",
       "5                  B02598                     59"
      ]
     },
     "execution_count": 751,
     "metadata": {},
     "output_type": "execute_result"
    }
   ],
   "source": [
    "q_10 = pd.Series(Uber_jan_feb['dispatching_base_number'].value_counts())\n",
    "q_10 = pd.DataFrame(q_10).reset_index()\n",
    "q_10.columns = ['dispatching_base_number','number_of_dispatching']\n",
    "q_10"
   ]
  },
  {
   "cell_type": "markdown",
   "metadata": {},
   "source": [
    "__11-What is the most commen month people ask for trips ?__"
   ]
  },
  {
   "cell_type": "code",
   "execution_count": 752,
   "metadata": {},
   "outputs": [
    {
     "data": {
      "text/html": [
       "<div>\n",
       "<style scoped>\n",
       "    .dataframe tbody tr th:only-of-type {\n",
       "        vertical-align: middle;\n",
       "    }\n",
       "\n",
       "    .dataframe tbody tr th {\n",
       "        vertical-align: top;\n",
       "    }\n",
       "\n",
       "    .dataframe thead th {\n",
       "        text-align: right;\n",
       "    }\n",
       "</style>\n",
       "<table border=\"1\" class=\"dataframe\">\n",
       "  <thead>\n",
       "    <tr style=\"text-align: right;\">\n",
       "      <th></th>\n",
       "      <th>months</th>\n",
       "      <th>number_of_people</th>\n",
       "    </tr>\n",
       "  </thead>\n",
       "  <tbody>\n",
       "    <tr>\n",
       "      <th>0</th>\n",
       "      <td>January</td>\n",
       "      <td>186</td>\n",
       "    </tr>\n",
       "    <tr>\n",
       "      <th>1</th>\n",
       "      <td>February</td>\n",
       "      <td>168</td>\n",
       "    </tr>\n",
       "  </tbody>\n",
       "</table>\n",
       "</div>"
      ],
      "text/plain": [
       "     months  number_of_people\n",
       "0   January               186\n",
       "1  February               168"
      ]
     },
     "execution_count": 752,
     "metadata": {},
     "output_type": "execute_result"
    }
   ],
   "source": [
    "q_11 =pd.DataFrame( Uber_jan_feb.months.value_counts()).reset_index()\n",
    "q_11.columns = ['months','number_of_people']\n",
    "q_11"
   ]
  },
  {
   "cell_type": "markdown",
   "metadata": {},
   "source": [
    "__12-What is the most commen day people ask for trips ?__\n"
   ]
  },
  {
   "cell_type": "code",
   "execution_count": 753,
   "metadata": {},
   "outputs": [
    {
     "data": {
      "text/html": [
       "<div>\n",
       "<style scoped>\n",
       "    .dataframe tbody tr th:only-of-type {\n",
       "        vertical-align: middle;\n",
       "    }\n",
       "\n",
       "    .dataframe tbody tr th {\n",
       "        vertical-align: top;\n",
       "    }\n",
       "\n",
       "    .dataframe thead th {\n",
       "        text-align: right;\n",
       "    }\n",
       "</style>\n",
       "<table border=\"1\" class=\"dataframe\">\n",
       "  <thead>\n",
       "    <tr style=\"text-align: right;\">\n",
       "      <th></th>\n",
       "      <th>days</th>\n",
       "      <th>number_of_people</th>\n",
       "    </tr>\n",
       "  </thead>\n",
       "  <tbody>\n",
       "    <tr>\n",
       "      <th>0</th>\n",
       "      <td>Thursday</td>\n",
       "      <td>54</td>\n",
       "    </tr>\n",
       "    <tr>\n",
       "      <th>1</th>\n",
       "      <td>Friday</td>\n",
       "      <td>54</td>\n",
       "    </tr>\n",
       "    <tr>\n",
       "      <th>2</th>\n",
       "      <td>Saturday</td>\n",
       "      <td>54</td>\n",
       "    </tr>\n",
       "    <tr>\n",
       "      <th>3</th>\n",
       "      <td>Sunday</td>\n",
       "      <td>48</td>\n",
       "    </tr>\n",
       "    <tr>\n",
       "      <th>4</th>\n",
       "      <td>Monday</td>\n",
       "      <td>48</td>\n",
       "    </tr>\n",
       "    <tr>\n",
       "      <th>5</th>\n",
       "      <td>Tuesday</td>\n",
       "      <td>48</td>\n",
       "    </tr>\n",
       "    <tr>\n",
       "      <th>6</th>\n",
       "      <td>Wednesday</td>\n",
       "      <td>48</td>\n",
       "    </tr>\n",
       "  </tbody>\n",
       "</table>\n",
       "</div>"
      ],
      "text/plain": [
       "        days  number_of_people\n",
       "0   Thursday                54\n",
       "1     Friday                54\n",
       "2   Saturday                54\n",
       "3     Sunday                48\n",
       "4     Monday                48\n",
       "5    Tuesday                48\n",
       "6  Wednesday                48"
      ]
     },
     "execution_count": 753,
     "metadata": {},
     "output_type": "execute_result"
    }
   ],
   "source": [
    "q_12 =pd.DataFrame( Uber_jan_feb.days.value_counts()).reset_index()\n",
    "q_12.columns = ['days','number_of_people']\n",
    "q_12"
   ]
  },
  {
   "cell_type": "markdown",
   "metadata": {},
   "source": [
    "__13-Total number of each kind of trips ?__"
   ]
  },
  {
   "cell_type": "code",
   "execution_count": 754,
   "metadata": {},
   "outputs": [
    {
     "data": {
      "text/html": [
       "<div>\n",
       "<style scoped>\n",
       "    .dataframe tbody tr th:only-of-type {\n",
       "        vertical-align: middle;\n",
       "    }\n",
       "\n",
       "    .dataframe tbody tr th {\n",
       "        vertical-align: top;\n",
       "    }\n",
       "\n",
       "    .dataframe thead th {\n",
       "        text-align: right;\n",
       "    }\n",
       "</style>\n",
       "<table border=\"1\" class=\"dataframe\">\n",
       "  <thead>\n",
       "    <tr style=\"text-align: right;\">\n",
       "      <th></th>\n",
       "      <th>Kind_of_tripsr</th>\n",
       "      <th>number_of_Kind_of_trips</th>\n",
       "    </tr>\n",
       "  </thead>\n",
       "  <tbody>\n",
       "    <tr>\n",
       "      <th>0</th>\n",
       "      <td>Bad</td>\n",
       "      <td>182</td>\n",
       "    </tr>\n",
       "    <tr>\n",
       "      <th>1</th>\n",
       "      <td>Normal</td>\n",
       "      <td>116</td>\n",
       "    </tr>\n",
       "    <tr>\n",
       "      <th>2</th>\n",
       "      <td>Best</td>\n",
       "      <td>37</td>\n",
       "    </tr>\n",
       "    <tr>\n",
       "      <th>3</th>\n",
       "      <td>Good</td>\n",
       "      <td>19</td>\n",
       "    </tr>\n",
       "  </tbody>\n",
       "</table>\n",
       "</div>"
      ],
      "text/plain": [
       "  Kind_of_tripsr  number_of_Kind_of_trips\n",
       "0            Bad                      182\n",
       "1         Normal                      116\n",
       "2           Best                       37\n",
       "3           Good                       19"
      ]
     },
     "execution_count": 754,
     "metadata": {},
     "output_type": "execute_result"
    }
   ],
   "source": [
    "q_13 = pd.Series(Uber_jan_feb['Kind_of_trips'].value_counts())\n",
    "q_13 = pd.DataFrame(q_13).reset_index()\n",
    "q_13.columns = [\"Kind_of_tripsr\" , 'number_of_Kind_of_trips']\n",
    "q_13"
   ]
  },
  {
   "cell_type": "markdown",
   "metadata": {},
   "source": [
    "__14-Total number of each status of vehicles's number ?__"
   ]
  },
  {
   "cell_type": "code",
   "execution_count": 755,
   "metadata": {},
   "outputs": [
    {
     "data": {
      "text/html": [
       "<div>\n",
       "<style scoped>\n",
       "    .dataframe tbody tr th:only-of-type {\n",
       "        vertical-align: middle;\n",
       "    }\n",
       "\n",
       "    .dataframe tbody tr th {\n",
       "        vertical-align: top;\n",
       "    }\n",
       "\n",
       "    .dataframe thead th {\n",
       "        text-align: right;\n",
       "    }\n",
       "</style>\n",
       "<table border=\"1\" class=\"dataframe\">\n",
       "  <thead>\n",
       "    <tr style=\"text-align: right;\">\n",
       "      <th></th>\n",
       "      <th>status_of_vehicles's_number</th>\n",
       "      <th>number_of_status</th>\n",
       "    </tr>\n",
       "  </thead>\n",
       "  <tbody>\n",
       "    <tr>\n",
       "      <th>0</th>\n",
       "      <td>Low</td>\n",
       "      <td>182</td>\n",
       "    </tr>\n",
       "    <tr>\n",
       "      <th>1</th>\n",
       "      <td>Medium</td>\n",
       "      <td>116</td>\n",
       "    </tr>\n",
       "    <tr>\n",
       "      <th>2</th>\n",
       "      <td>Higher</td>\n",
       "      <td>37</td>\n",
       "    </tr>\n",
       "    <tr>\n",
       "      <th>3</th>\n",
       "      <td>High</td>\n",
       "      <td>19</td>\n",
       "    </tr>\n",
       "  </tbody>\n",
       "</table>\n",
       "</div>"
      ],
      "text/plain": [
       "  status_of_vehicles's_number  number_of_status\n",
       "0                         Low               182\n",
       "1                      Medium               116\n",
       "2                      Higher                37\n",
       "3                        High                19"
      ]
     },
     "execution_count": 755,
     "metadata": {},
     "output_type": "execute_result"
    }
   ],
   "source": [
    "q_14 = pd.Series(Uber_jan_feb['status_of_vehicles\\'s_number'].value_counts())\n",
    "q_14 = pd.DataFrame(q_14).reset_index()\n",
    "q_14.columns = [\"status_of_vehicles's_number\" , 'number_of_status']\n",
    "q_14"
   ]
  },
  {
   "cell_type": "markdown",
   "metadata": {},
   "source": [
    "__15-How many vehicles for each status of vehicles's number and kind of trips ?__"
   ]
  },
  {
   "cell_type": "code",
   "execution_count": 756,
   "metadata": {},
   "outputs": [
    {
     "data": {
      "text/html": [
       "<div>\n",
       "<style scoped>\n",
       "    .dataframe tbody tr th:only-of-type {\n",
       "        vertical-align: middle;\n",
       "    }\n",
       "\n",
       "    .dataframe tbody tr th {\n",
       "        vertical-align: top;\n",
       "    }\n",
       "\n",
       "    .dataframe thead th {\n",
       "        text-align: right;\n",
       "    }\n",
       "</style>\n",
       "<table border=\"1\" class=\"dataframe\">\n",
       "  <thead>\n",
       "    <tr style=\"text-align: right;\">\n",
       "      <th></th>\n",
       "      <th>status_of_vehicles's_number</th>\n",
       "      <th>Kind_of_trips</th>\n",
       "      <th>active_vehicles</th>\n",
       "    </tr>\n",
       "  </thead>\n",
       "  <tbody>\n",
       "    <tr>\n",
       "      <th>0</th>\n",
       "      <td>Low</td>\n",
       "      <td>Bad</td>\n",
       "      <td>97906</td>\n",
       "    </tr>\n",
       "    <tr>\n",
       "      <th>5</th>\n",
       "      <td>Medium</td>\n",
       "      <td>Normal</td>\n",
       "      <td>155414</td>\n",
       "    </tr>\n",
       "    <tr>\n",
       "      <th>10</th>\n",
       "      <td>High</td>\n",
       "      <td>Good</td>\n",
       "      <td>65889</td>\n",
       "    </tr>\n",
       "    <tr>\n",
       "      <th>15</th>\n",
       "      <td>Higher</td>\n",
       "      <td>Best</td>\n",
       "      <td>143623</td>\n",
       "    </tr>\n",
       "  </tbody>\n",
       "</table>\n",
       "</div>"
      ],
      "text/plain": [
       "   status_of_vehicles's_number Kind_of_trips  active_vehicles\n",
       "0                          Low           Bad            97906\n",
       "5                       Medium        Normal           155414\n",
       "10                        High          Good            65889\n",
       "15                      Higher          Best           143623"
      ]
     },
     "execution_count": 756,
     "metadata": {},
     "output_type": "execute_result"
    }
   ],
   "source": [
    "q_15 = Uber_jan_feb.pivot_table(index=['status_of_vehicles\\'s_number','Kind_of_trips'] , values= 'active_vehicles' , aggfunc='sum').reset_index()\n",
    "q_15 = q_15[q_15.active_vehicles > 10]\n",
    "q_15"
   ]
  },
  {
   "cell_type": "markdown",
   "metadata": {},
   "source": [
    "__16-How many trips for each status of vehicles's number and kind of trips ?__"
   ]
  },
  {
   "cell_type": "code",
   "execution_count": 757,
   "metadata": {},
   "outputs": [
    {
     "data": {
      "text/html": [
       "<div>\n",
       "<style scoped>\n",
       "    .dataframe tbody tr th:only-of-type {\n",
       "        vertical-align: middle;\n",
       "    }\n",
       "\n",
       "    .dataframe tbody tr th {\n",
       "        vertical-align: top;\n",
       "    }\n",
       "\n",
       "    .dataframe thead th {\n",
       "        text-align: right;\n",
       "    }\n",
       "</style>\n",
       "<table border=\"1\" class=\"dataframe\">\n",
       "  <thead>\n",
       "    <tr style=\"text-align: right;\">\n",
       "      <th></th>\n",
       "      <th>status_of_vehicles's_number</th>\n",
       "      <th>Kind_of_trips</th>\n",
       "      <th>trips</th>\n",
       "    </tr>\n",
       "  </thead>\n",
       "  <tbody>\n",
       "    <tr>\n",
       "      <th>0</th>\n",
       "      <td>Low</td>\n",
       "      <td>Bad</td>\n",
       "      <td>798320</td>\n",
       "    </tr>\n",
       "    <tr>\n",
       "      <th>5</th>\n",
       "      <td>Medium</td>\n",
       "      <td>Normal</td>\n",
       "      <td>1469373</td>\n",
       "    </tr>\n",
       "    <tr>\n",
       "      <th>10</th>\n",
       "      <td>High</td>\n",
       "      <td>Good</td>\n",
       "      <td>519343</td>\n",
       "    </tr>\n",
       "    <tr>\n",
       "      <th>15</th>\n",
       "      <td>Higher</td>\n",
       "      <td>Best</td>\n",
       "      <td>1343194</td>\n",
       "    </tr>\n",
       "  </tbody>\n",
       "</table>\n",
       "</div>"
      ],
      "text/plain": [
       "   status_of_vehicles's_number Kind_of_trips    trips\n",
       "0                          Low           Bad   798320\n",
       "5                       Medium        Normal  1469373\n",
       "10                        High          Good   519343\n",
       "15                      Higher          Best  1343194"
      ]
     },
     "execution_count": 757,
     "metadata": {},
     "output_type": "execute_result"
    }
   ],
   "source": [
    "q_16 = Uber_jan_feb.pivot_table(index=['status_of_vehicles\\'s_number','Kind_of_trips'] , values= 'trips' , aggfunc='sum').reset_index()\n",
    "q_16 = q_16[q_16.trips > 10]\n",
    "q_16"
   ]
  },
  {
   "cell_type": "markdown",
   "metadata": {},
   "source": [
    "__17-What is the average and total of trips for each week ?__"
   ]
  },
  {
   "cell_type": "code",
   "execution_count": 758,
   "metadata": {},
   "outputs": [
    {
     "data": {
      "text/html": [
       "<div>\n",
       "<style scoped>\n",
       "    .dataframe tbody tr th:only-of-type {\n",
       "        vertical-align: middle;\n",
       "    }\n",
       "\n",
       "    .dataframe tbody tr th {\n",
       "        vertical-align: top;\n",
       "    }\n",
       "\n",
       "    .dataframe thead th {\n",
       "        text-align: right;\n",
       "    }\n",
       "</style>\n",
       "<table border=\"1\" class=\"dataframe\">\n",
       "  <thead>\n",
       "    <tr style=\"text-align: right;\">\n",
       "      <th></th>\n",
       "      <th>date</th>\n",
       "      <th>trips</th>\n",
       "    </tr>\n",
       "  </thead>\n",
       "  <tbody>\n",
       "    <tr>\n",
       "      <th>0</th>\n",
       "      <td>2015-01-04</td>\n",
       "      <td>194873</td>\n",
       "    </tr>\n",
       "    <tr>\n",
       "      <th>1</th>\n",
       "      <td>2015-01-11</td>\n",
       "      <td>434499</td>\n",
       "    </tr>\n",
       "    <tr>\n",
       "      <th>2</th>\n",
       "      <td>2015-01-18</td>\n",
       "      <td>469519</td>\n",
       "    </tr>\n",
       "    <tr>\n",
       "      <th>3</th>\n",
       "      <td>2015-01-25</td>\n",
       "      <td>435699</td>\n",
       "    </tr>\n",
       "    <tr>\n",
       "      <th>4</th>\n",
       "      <td>2015-02-01</td>\n",
       "      <td>450969</td>\n",
       "    </tr>\n",
       "    <tr>\n",
       "      <th>5</th>\n",
       "      <td>2015-02-08</td>\n",
       "      <td>517013</td>\n",
       "    </tr>\n",
       "    <tr>\n",
       "      <th>6</th>\n",
       "      <td>2015-02-15</td>\n",
       "      <td>570196</td>\n",
       "    </tr>\n",
       "    <tr>\n",
       "      <th>7</th>\n",
       "      <td>2015-02-22</td>\n",
       "      <td>571884</td>\n",
       "    </tr>\n",
       "    <tr>\n",
       "      <th>8</th>\n",
       "      <td>2015-03-01</td>\n",
       "      <td>485578</td>\n",
       "    </tr>\n",
       "  </tbody>\n",
       "</table>\n",
       "</div>"
      ],
      "text/plain": [
       "        date   trips\n",
       "0 2015-01-04  194873\n",
       "1 2015-01-11  434499\n",
       "2 2015-01-18  469519\n",
       "3 2015-01-25  435699\n",
       "4 2015-02-01  450969\n",
       "5 2015-02-08  517013\n",
       "6 2015-02-15  570196\n",
       "7 2015-02-22  571884\n",
       "8 2015-03-01  485578"
      ]
     },
     "execution_count": 758,
     "metadata": {},
     "output_type": "execute_result"
    }
   ],
   "source": [
    "q_17 = Uber_jan_feb.set_index('date')\n",
    "q_17 = pd.DataFrame(q_17.loc[:,'trips'].resample('W').sum()).reset_index()\n",
    "q_17"
   ]
  },
  {
   "cell_type": "code",
   "execution_count": 759,
   "metadata": {},
   "outputs": [
    {
     "data": {
      "text/html": [
       "<div>\n",
       "<style scoped>\n",
       "    .dataframe tbody tr th:only-of-type {\n",
       "        vertical-align: middle;\n",
       "    }\n",
       "\n",
       "    .dataframe tbody tr th {\n",
       "        vertical-align: top;\n",
       "    }\n",
       "\n",
       "    .dataframe thead th {\n",
       "        text-align: right;\n",
       "    }\n",
       "</style>\n",
       "<table border=\"1\" class=\"dataframe\">\n",
       "  <thead>\n",
       "    <tr style=\"text-align: right;\">\n",
       "      <th></th>\n",
       "      <th>date</th>\n",
       "      <th>trips</th>\n",
       "    </tr>\n",
       "  </thead>\n",
       "  <tbody>\n",
       "    <tr>\n",
       "      <th>0</th>\n",
       "      <td>2015-01-04</td>\n",
       "      <td>8120.0</td>\n",
       "    </tr>\n",
       "    <tr>\n",
       "      <th>1</th>\n",
       "      <td>2015-01-11</td>\n",
       "      <td>10345.0</td>\n",
       "    </tr>\n",
       "    <tr>\n",
       "      <th>2</th>\n",
       "      <td>2015-01-18</td>\n",
       "      <td>11179.0</td>\n",
       "    </tr>\n",
       "    <tr>\n",
       "      <th>3</th>\n",
       "      <td>2015-01-25</td>\n",
       "      <td>10374.0</td>\n",
       "    </tr>\n",
       "    <tr>\n",
       "      <th>4</th>\n",
       "      <td>2015-02-01</td>\n",
       "      <td>10737.0</td>\n",
       "    </tr>\n",
       "    <tr>\n",
       "      <th>5</th>\n",
       "      <td>2015-02-08</td>\n",
       "      <td>12310.0</td>\n",
       "    </tr>\n",
       "    <tr>\n",
       "      <th>6</th>\n",
       "      <td>2015-02-15</td>\n",
       "      <td>13576.0</td>\n",
       "    </tr>\n",
       "    <tr>\n",
       "      <th>7</th>\n",
       "      <td>2015-02-22</td>\n",
       "      <td>13616.0</td>\n",
       "    </tr>\n",
       "    <tr>\n",
       "      <th>8</th>\n",
       "      <td>2015-03-01</td>\n",
       "      <td>13488.0</td>\n",
       "    </tr>\n",
       "  </tbody>\n",
       "</table>\n",
       "</div>"
      ],
      "text/plain": [
       "        date    trips\n",
       "0 2015-01-04   8120.0\n",
       "1 2015-01-11  10345.0\n",
       "2 2015-01-18  11179.0\n",
       "3 2015-01-25  10374.0\n",
       "4 2015-02-01  10737.0\n",
       "5 2015-02-08  12310.0\n",
       "6 2015-02-15  13576.0\n",
       "7 2015-02-22  13616.0\n",
       "8 2015-03-01  13488.0"
      ]
     },
     "execution_count": 759,
     "metadata": {},
     "output_type": "execute_result"
    }
   ],
   "source": [
    "qq_17 = Uber_jan_feb.set_index('date')\n",
    "qq_17 = pd.DataFrame(round(qq_17.loc[:,'trips'].resample('w').mean())).reset_index()\n",
    "qq_17"
   ]
  },
  {
   "cell_type": "code",
   "execution_count": 760,
   "metadata": {},
   "outputs": [],
   "source": [
    "Uber_jan_feb.to_csv('Uber_data_sets/Uber_jan_feb.csv')"
   ]
  },
  {
   "cell_type": "code",
   "execution_count": 761,
   "metadata": {},
   "outputs": [
    {
     "data": {
      "application/vnd.plotly.v1+json": {
       "config": {
        "plotlyServerURL": "https://plot.ly"
       },
       "data": [
        {
         "hovertemplate": "Kind_of_trips=Bad<br>days=Thursday<br>trips=%{marker.size}<br>vehicles=%{y}<extra></extra>",
         "ids": [
          1132,
          1765,
          7679,
          9537,
          6903,
          1911,
          1772,
          1636,
          1797,
          9152,
          1551,
          9080,
          2038,
          2086,
          1687,
          9499,
          2022,
          3011,
          2092,
          4609,
          2120,
          6447,
          1797,
          6744
         ],
         "legendgroup": "Bad",
         "marker": {
          "color": "#636efa",
          "size": [
           1132,
           1765,
           7679,
           9537,
           6903,
           1911,
           1772,
           1636,
           1797,
           9152,
           1551,
           9080,
           2038,
           2086,
           1687,
           9499,
           2022,
           3011,
           2092,
           4609,
           2120,
           6447,
           1797,
           6744
          ],
          "sizemode": "area",
          "sizeref": 114.645,
          "symbol": "circle"
         },
         "mode": "markers",
         "name": "Bad",
         "orientation": "v",
         "showlegend": true,
         "type": "scatter",
         "x": [
          1132,
          1765,
          7679,
          9537,
          6903,
          1911,
          1772,
          1636,
          1797,
          9152,
          1551,
          9080,
          2038,
          2086,
          1687,
          9499,
          2022,
          3011,
          2092,
          4609,
          2120,
          6447,
          1797,
          6744
         ],
         "xaxis": "x",
         "y": [
          190,
          225,
          945,
          1228,
          870,
          262,
          238,
          237,
          270,
          1068,
          246,
          1071,
          295,
          295,
          250,
          1082,
          264,
          355,
          269,
          536,
          250,
          663,
          243,
          745
         ],
         "yaxis": "y"
        },
        {
         "hovertemplate": "Kind_of_trips=Good<br>days=Thursday<br>trips=%{marker.size}<br>vehicles=%{y}<extra></extra>",
         "ids": [
          29421
         ],
         "legendgroup": "Good",
         "marker": {
          "color": "#EF553B",
          "size": [
           29421
          ],
          "sizemode": "area",
          "sizeref": 114.645,
          "symbol": "circle"
         },
         "mode": "markers",
         "name": "Good",
         "orientation": "v",
         "showlegend": true,
         "type": "scatter",
         "x": [
          29421
         ],
         "xaxis": "x",
         "y": [
          3427
         ],
         "yaxis": "y"
        },
        {
         "hovertemplate": "Kind_of_trips=Normal<br>days=Thursday<br>trips=%{marker.size}<br>vehicles=%{y}<extra></extra>",
         "ids": [
          10050,
          10416,
          13462,
          10391,
          12539,
          12143,
          10699,
          12600,
          11485,
          14499,
          13782,
          11609,
          14263,
          13786,
          11640,
          11739,
          14591,
          14750,
          10661,
          14461,
          13814
         ],
         "legendgroup": "Normal",
         "marker": {
          "color": "#00cc96",
          "size": [
           10050,
           10416,
           13462,
           10391,
           12539,
           12143,
           10699,
           12600,
           11485,
           14499,
           13782,
           11609,
           14263,
           13786,
           11640,
           11739,
           14591,
           14750,
           10661,
           14461,
           13814
          ],
          "sizemode": "area",
          "sizeref": 114.645,
          "symbol": "circle"
         },
         "mode": "markers",
         "name": "Normal",
         "orientation": "v",
         "showlegend": true,
         "type": "scatter",
         "x": [
          10050,
          10416,
          13462,
          10391,
          12539,
          12143,
          10699,
          12600,
          11485,
          14499,
          13782,
          11609,
          14263,
          13786,
          11640,
          11739,
          14591,
          14750,
          10661,
          14461,
          13814
         ],
         "xaxis": "x",
         "y": [
          1070,
          1135,
          1463,
          1208,
          1457,
          1471,
          1295,
          1474,
          1316,
          1524,
          1418,
          1179,
          1532,
          1468,
          1181,
          1127,
          1428,
          1452,
          1134,
          1539,
          1465
         ],
         "yaxis": "y"
        },
        {
         "hovertemplate": "Kind_of_trips=Best<br>days=Thursday<br>trips=%{marker.size}<br>vehicles=%{y}<extra></extra>",
         "ids": [
          33802,
          31214,
          30091,
          31637,
          35990,
          36844,
          39110,
          36091
         ],
         "legendgroup": "Best",
         "marker": {
          "color": "#ab63fa",
          "size": [
           33802,
           31214,
           30091,
           31637,
           35990,
           36844,
           39110,
           36091
          ],
          "sizemode": "area",
          "sizeref": 114.645,
          "symbol": "circle"
         },
         "mode": "markers",
         "name": "Best",
         "orientation": "v",
         "showlegend": true,
         "type": "scatter",
         "x": [
          33802,
          31214,
          30091,
          31637,
          35990,
          36844,
          39110,
          36091
         ],
         "xaxis": "x",
         "y": [
          3831,
          3840,
          3889,
          3959,
          4093,
          4137,
          4110,
          4101
         ],
         "yaxis": "y"
        }
       ],
       "frames": [
        {
         "data": [
          {
           "hovertemplate": "Kind_of_trips=Bad<br>days=Thursday<br>trips=%{marker.size}<br>vehicles=%{y}<extra></extra>",
           "ids": [
            1132,
            1765,
            7679,
            9537,
            6903,
            1911,
            1772,
            1636,
            1797,
            9152,
            1551,
            9080,
            2038,
            2086,
            1687,
            9499,
            2022,
            3011,
            2092,
            4609,
            2120,
            6447,
            1797,
            6744
           ],
           "legendgroup": "Bad",
           "marker": {
            "color": "#636efa",
            "size": [
             1132,
             1765,
             7679,
             9537,
             6903,
             1911,
             1772,
             1636,
             1797,
             9152,
             1551,
             9080,
             2038,
             2086,
             1687,
             9499,
             2022,
             3011,
             2092,
             4609,
             2120,
             6447,
             1797,
             6744
            ],
            "sizemode": "area",
            "sizeref": 114.645,
            "symbol": "circle"
           },
           "mode": "markers",
           "name": "Bad",
           "orientation": "v",
           "showlegend": true,
           "type": "scatter",
           "x": [
            1132,
            1765,
            7679,
            9537,
            6903,
            1911,
            1772,
            1636,
            1797,
            9152,
            1551,
            9080,
            2038,
            2086,
            1687,
            9499,
            2022,
            3011,
            2092,
            4609,
            2120,
            6447,
            1797,
            6744
           ],
           "xaxis": "x",
           "y": [
            190,
            225,
            945,
            1228,
            870,
            262,
            238,
            237,
            270,
            1068,
            246,
            1071,
            295,
            295,
            250,
            1082,
            264,
            355,
            269,
            536,
            250,
            663,
            243,
            745
           ],
           "yaxis": "y"
          },
          {
           "hovertemplate": "Kind_of_trips=Good<br>days=Thursday<br>trips=%{marker.size}<br>vehicles=%{y}<extra></extra>",
           "ids": [
            29421
           ],
           "legendgroup": "Good",
           "marker": {
            "color": "#EF553B",
            "size": [
             29421
            ],
            "sizemode": "area",
            "sizeref": 114.645,
            "symbol": "circle"
           },
           "mode": "markers",
           "name": "Good",
           "orientation": "v",
           "showlegend": true,
           "type": "scatter",
           "x": [
            29421
           ],
           "xaxis": "x",
           "y": [
            3427
           ],
           "yaxis": "y"
          },
          {
           "hovertemplate": "Kind_of_trips=Normal<br>days=Thursday<br>trips=%{marker.size}<br>vehicles=%{y}<extra></extra>",
           "ids": [
            10050,
            10416,
            13462,
            10391,
            12539,
            12143,
            10699,
            12600,
            11485,
            14499,
            13782,
            11609,
            14263,
            13786,
            11640,
            11739,
            14591,
            14750,
            10661,
            14461,
            13814
           ],
           "legendgroup": "Normal",
           "marker": {
            "color": "#00cc96",
            "size": [
             10050,
             10416,
             13462,
             10391,
             12539,
             12143,
             10699,
             12600,
             11485,
             14499,
             13782,
             11609,
             14263,
             13786,
             11640,
             11739,
             14591,
             14750,
             10661,
             14461,
             13814
            ],
            "sizemode": "area",
            "sizeref": 114.645,
            "symbol": "circle"
           },
           "mode": "markers",
           "name": "Normal",
           "orientation": "v",
           "showlegend": true,
           "type": "scatter",
           "x": [
            10050,
            10416,
            13462,
            10391,
            12539,
            12143,
            10699,
            12600,
            11485,
            14499,
            13782,
            11609,
            14263,
            13786,
            11640,
            11739,
            14591,
            14750,
            10661,
            14461,
            13814
           ],
           "xaxis": "x",
           "y": [
            1070,
            1135,
            1463,
            1208,
            1457,
            1471,
            1295,
            1474,
            1316,
            1524,
            1418,
            1179,
            1532,
            1468,
            1181,
            1127,
            1428,
            1452,
            1134,
            1539,
            1465
           ],
           "yaxis": "y"
          },
          {
           "hovertemplate": "Kind_of_trips=Best<br>days=Thursday<br>trips=%{marker.size}<br>vehicles=%{y}<extra></extra>",
           "ids": [
            33802,
            31214,
            30091,
            31637,
            35990,
            36844,
            39110,
            36091
           ],
           "legendgroup": "Best",
           "marker": {
            "color": "#ab63fa",
            "size": [
             33802,
             31214,
             30091,
             31637,
             35990,
             36844,
             39110,
             36091
            ],
            "sizemode": "area",
            "sizeref": 114.645,
            "symbol": "circle"
           },
           "mode": "markers",
           "name": "Best",
           "orientation": "v",
           "showlegend": true,
           "type": "scatter",
           "x": [
            33802,
            31214,
            30091,
            31637,
            35990,
            36844,
            39110,
            36091
           ],
           "xaxis": "x",
           "y": [
            3831,
            3840,
            3889,
            3959,
            4093,
            4137,
            4110,
            4101
           ],
           "yaxis": "y"
          }
         ],
         "name": "Thursday"
        },
        {
         "data": [
          {
           "hovertemplate": "Kind_of_trips=Bad<br>days=Friday<br>trips=%{marker.size}<br>vehicles=%{y}<extra></extra>",
           "ids": [
            4768,
            7065,
            875,
            5506,
            1001,
            1560,
            9538,
            2039,
            2082,
            1481,
            9838,
            9343,
            1670,
            2162,
            2016,
            2785,
            3569,
            1989,
            5909,
            2408,
            7824,
            2380,
            7563,
            2056
           ],
           "legendgroup": "Bad",
           "marker": {
            "color": "#636efa",
            "size": [
             4768,
             7065,
             875,
             5506,
             1001,
             1560,
             9538,
             2039,
             2082,
             1481,
             9838,
             9343,
             1670,
             2162,
             2016,
             2785,
             3569,
             1989,
             5909,
             2408,
             7824,
             2380,
             7563,
             2056
            ],
            "sizemode": "area",
            "sizeref": 114.645,
            "symbol": "circle"
           },
           "mode": "markers",
           "name": "Bad",
           "orientation": "v",
           "showlegend": true,
           "type": "scatter",
           "x": [
            4768,
            7065,
            875,
            5506,
            1001,
            1560,
            9538,
            2039,
            2082,
            1481,
            9838,
            9343,
            1670,
            2162,
            2016,
            2785,
            3569,
            1989,
            5909,
            2408,
            7824,
            2380,
            7563,
            2056
           ],
           "xaxis": "x",
           "y": [
            785,
            1137,
            175,
            890,
            196,
            224,
            1070,
            280,
            290,
            234,
            1079,
            1093,
            246,
            299,
            256,
            322,
            385,
            261,
            599,
            281,
            736,
            272,
            786,
            272
           ],
           "yaxis": "y"
          },
          {
           "hovertemplate": "Kind_of_trips=Normal<br>days=Friday<br>trips=%{marker.size}<br>vehicles=%{y}<extra></extra>",
           "ids": [
            19974,
            13165,
            10477,
            12977,
            11280,
            13121,
            11767,
            14793,
            13852,
            11167,
            15417,
            11897,
            14375,
            16996,
            16088,
            13062,
            16856,
            12758,
            16342,
            14677,
            10755,
            14975
           ],
           "legendgroup": "Normal",
           "marker": {
            "color": "#00cc96",
            "size": [
             19974,
             13165,
             10477,
             12977,
             11280,
             13121,
             11767,
             14793,
             13852,
             11167,
             15417,
             11897,
             14375,
             16996,
             16088,
             13062,
             16856,
             12758,
             16342,
             14677,
             10755,
             14975
            ],
            "sizemode": "area",
            "sizeref": 114.645,
            "symbol": "circle"
           },
           "mode": "markers",
           "name": "Normal",
           "orientation": "v",
           "showlegend": true,
           "type": "scatter",
           "x": [
            19974,
            13165,
            10477,
            12977,
            11280,
            13121,
            11767,
            14793,
            13852,
            11167,
            15417,
            11897,
            14375,
            16996,
            16088,
            13062,
            16856,
            12758,
            16342,
            14677,
            10755,
            14975
           ],
           "xaxis": "x",
           "y": [
            3147,
            1455,
            1140,
            1445,
            1250,
            1482,
            1330,
            1501,
            1384,
            1106,
            1526,
            1181,
            1414,
            1590,
            1523,
            1216,
            1574,
            1186,
            1497,
            1551,
            1114,
            1510
           ],
           "yaxis": "y"
          },
          {
           "hovertemplate": "Kind_of_trips=Best<br>days=Friday<br>trips=%{marker.size}<br>vehicles=%{y}<extra></extra>",
           "ids": [
            33517,
            34822,
            33756,
            39110,
            38693,
            43561,
            44755,
            38780
           ],
           "legendgroup": "Best",
           "marker": {
            "color": "#ab63fa",
            "size": [
             33517,
             34822,
             33756,
             39110,
             38693,
             43561,
             44755,
             38780
            ],
            "sizemode": "area",
            "sizeref": 114.645,
            "symbol": "circle"
           },
           "mode": "markers",
           "name": "Best",
           "orientation": "v",
           "showlegend": true,
           "type": "scatter",
           "x": [
            33517,
            34822,
            33756,
            39110,
            38693,
            43561,
            44755,
            38780
           ],
           "xaxis": "x",
           "y": [
            3820,
            3975,
            4040,
            4124,
            4170,
            4395,
            4384,
            4253
           ],
           "yaxis": "y"
          }
         ],
         "name": "Friday"
        },
        {
         "data": [
          {
           "hovertemplate": "Kind_of_trips=Bad<br>days=Saturday<br>trips=%{marker.size}<br>vehicles=%{y}<extra></extra>",
           "ids": [
            1526,
            7432,
            8010,
            1088,
            1646,
            2202,
            9546,
            1281,
            2160,
            1608,
            2376,
            3282,
            1892,
            1504,
            3473,
            2055,
            6307,
            7658,
            2149,
            1803,
            7753
           ],
           "legendgroup": "Bad",
           "marker": {
            "color": "#636efa",
            "size": [
             1526,
             7432,
             8010,
             1088,
             1646,
             2202,
             9546,
             1281,
             2160,
             1608,
             2376,
             3282,
             1892,
             1504,
             3473,
             2055,
             6307,
             7658,
             2149,
             1803,
             7753
            ],
            "sizemode": "area",
            "sizeref": 114.645,
            "symbol": "circle"
           },
           "mode": "markers",
           "name": "Bad",
           "orientation": "v",
           "showlegend": true,
           "type": "scatter",
           "x": [
            1526,
            7432,
            8010,
            1088,
            1646,
            2202,
            9546,
            1281,
            2160,
            1608,
            2376,
            3282,
            1892,
            1504,
            3473,
            2055,
            6307,
            7658,
            2149,
            1803,
            7753
           ],
           "xaxis": "x",
           "y": [
            201,
            818,
            915,
            173,
            206,
            245,
            974,
            201,
            252,
            211,
            245,
            309,
            225,
            211,
            345,
            236,
            583,
            685,
            238,
            230,
            747
           ],
           "yaxis": "y"
          },
          {
           "hovertemplate": "Kind_of_trips=Good<br>days=Saturday<br>trips=%{marker.size}<br>vehicles=%{y}<extra></extra>",
           "ids": [
            29729
           ],
           "legendgroup": "Good",
           "marker": {
            "color": "#EF553B",
            "size": [
             29729
            ],
            "sizemode": "area",
            "sizeref": 114.645,
            "symbol": "circle"
           },
           "mode": "markers",
           "name": "Good",
           "orientation": "v",
           "showlegend": true,
           "type": "scatter",
           "x": [
            29729
           ],
           "xaxis": "x",
           "y": [
            3215
           ],
           "yaxis": "y"
          },
          {
           "hovertemplate": "Kind_of_trips=Normal<br>days=Saturday<br>trips=%{marker.size}<br>vehicles=%{y}<extra></extra>",
           "ids": [
            10664,
            11629,
            13856,
            10287,
            11382,
            12676,
            10040,
            14143,
            13355,
            15756,
            15388,
            11642,
            10512,
            13688,
            13450,
            12678,
            16999,
            16448,
            12132,
            16149,
            16098,
            10319,
            14022,
            14472
           ],
           "legendgroup": "Normal",
           "marker": {
            "color": "#00cc96",
            "size": [
             10664,
             11629,
             13856,
             10287,
             11382,
             12676,
             10040,
             14143,
             13355,
             15756,
             15388,
             11642,
             10512,
             13688,
             13450,
             12678,
             16999,
             16448,
             12132,
             16149,
             16098,
             10319,
             14022,
             14472
            ],
            "sizemode": "area",
            "sizeref": 114.645,
            "symbol": "circle"
           },
           "mode": "markers",
           "name": "Normal",
           "orientation": "v",
           "showlegend": true,
           "type": "scatter",
           "x": [
            10664,
            11629,
            13856,
            10287,
            11382,
            12676,
            10040,
            14143,
            13355,
            15756,
            15388,
            11642,
            10512,
            13688,
            13450,
            12678,
            16999,
            16448,
            12132,
            16149,
            16098,
            10319,
            14022,
            14472
           ],
           "xaxis": "x",
           "y": [
            1188,
            1057,
            1331,
            949,
            1137,
            1306,
            945,
            1367,
            1223,
            1394,
            1321,
            1027,
            1031,
            1383,
            1300,
            1111,
            1486,
            1428,
            1044,
            1374,
            1443,
            994,
            1372,
            1386
           ],
           "yaxis": "y"
          },
          {
           "hovertemplate": "Kind_of_trips=Best<br>days=Saturday<br>trips=%{marker.size}<br>vehicles=%{y}<extra></extra>",
           "ids": [
            38864,
            36318,
            39187,
            44297,
            38530,
            45858,
            44194,
            39812
           ],
           "legendgroup": "Best",
           "marker": {
            "color": "#ab63fa",
            "size": [
             38864,
             36318,
             39187,
             44297,
             38530,
             45858,
             44194,
             39812
            ],
            "sizemode": "area",
            "sizeref": 114.645,
            "symbol": "circle"
           },
           "mode": "markers",
           "name": "Best",
           "orientation": "v",
           "showlegend": true,
           "type": "scatter",
           "x": [
            38864,
            36318,
            39187,
            44297,
            38530,
            45858,
            44194,
            39812
           ],
           "xaxis": "x",
           "y": [
            3558,
            3657,
            3652,
            3947,
            3849,
            4129,
            3981,
            3952
           ],
           "yaxis": "y"
          }
         ],
         "name": "Saturday"
        },
        {
         "data": [
          {
           "hovertemplate": "Kind_of_trips=Bad<br>days=Sunday<br>trips=%{marker.size}<br>vehicles=%{y}<extra></extra>",
           "ids": [
            791,
            5621,
            5223,
            993,
            7729,
            1672,
            7176,
            8461,
            1104,
            1521,
            9443,
            2287,
            1190,
            1755,
            7219,
            9303,
            9499,
            1377,
            2672,
            2623,
            8129,
            1196,
            5500,
            1996,
            1312,
            8271,
            5034
           ],
           "legendgroup": "Bad",
           "marker": {
            "color": "#636efa",
            "size": [
             791,
             5621,
             5223,
             993,
             7729,
             1672,
             7176,
             8461,
             1104,
             1521,
             9443,
             2287,
             1190,
             1755,
             7219,
             9303,
             9499,
             1377,
             2672,
             2623,
             8129,
             1196,
             5500,
             1996,
             1312,
             8271,
             5034
            ],
            "sizemode": "area",
            "sizeref": 114.645,
            "symbol": "circle"
           },
           "mode": "markers",
           "name": "Bad",
           "orientation": "v",
           "showlegend": true,
           "type": "scatter",
           "x": [
            791,
            5621,
            5223,
            993,
            7729,
            1672,
            7176,
            8461,
            1104,
            1521,
            9443,
            2287,
            1190,
            1755,
            7219,
            9303,
            9499,
            1377,
            2672,
            2623,
            8129,
            1196,
            5500,
            1996,
            1312,
            8271,
            5034
           ],
           "xaxis": "x",
           "y": [
            147,
            812,
            746,
            183,
            1088,
            220,
            832,
            943,
            162,
            177,
            869,
            248,
            183,
            226,
            829,
            1046,
            961,
            193,
            289,
            313,
            923,
            176,
            521,
            210,
            199,
            909,
            566
           ],
           "yaxis": "y"
          },
          {
           "hovertemplate": "Kind_of_trips=Good<br>days=Sunday<br>trips=%{marker.size}<br>vehicles=%{y}<extra></extra>",
           "ids": [
            20441,
            27681,
            28066,
            29692
           ],
           "legendgroup": "Good",
           "marker": {
            "color": "#EF553B",
            "size": [
             20441,
             27681,
             28066,
             29692
            ],
            "sizemode": "area",
            "sizeref": 114.645,
            "symbol": "circle"
           },
           "mode": "markers",
           "name": "Good",
           "orientation": "v",
           "showlegend": true,
           "type": "scatter",
           "x": [
            20441,
            27681,
            28066,
            29692
           ],
           "xaxis": "x",
           "y": [
            2862,
            3186,
            3300,
            3422
           ],
           "yaxis": "y"
          },
          {
           "hovertemplate": "Kind_of_trips=Normal<br>days=Sunday<br>trips=%{marker.size}<br>vehicles=%{y}<extra></extra>",
           "ids": [
            10932,
            11161,
            12879,
            10362,
            12436,
            13458,
            11004,
            10356,
            14517,
            14662,
            11517,
            10696,
            10970
           ],
           "legendgroup": "Normal",
           "marker": {
            "color": "#00cc96",
            "size": [
             10932,
             11161,
             12879,
             10362,
             12436,
             13458,
             11004,
             10356,
             14517,
             14662,
             11517,
             10696,
             10970
            ],
            "sizemode": "area",
            "sizeref": 114.645,
            "symbol": "circle"
           },
           "mode": "markers",
           "name": "Normal",
           "orientation": "v",
           "showlegend": true,
           "type": "scatter",
           "x": [
            10932,
            11161,
            12879,
            10362,
            12436,
            13458,
            11004,
            10356,
            14517,
            14662,
            11517,
            10696,
            10970
           ],
           "xaxis": "x",
           "y": [
            1228,
            1056,
            1223,
            1203,
            1214,
            1355,
            1256,
            1136,
            1261,
            1293,
            1003,
            1248,
            1220
           ],
           "yaxis": "y"
          },
          {
           "hovertemplate": "Kind_of_trips=Best<br>days=Sunday<br>trips=%{marker.size}<br>vehicles=%{y}<extra></extra>",
           "ids": [
            35182,
            37468,
            41209,
            30157
           ],
           "legendgroup": "Best",
           "marker": {
            "color": "#ab63fa",
            "size": [
             35182,
             37468,
             41209,
             30157
            ],
            "sizemode": "area",
            "sizeref": 114.645,
            "symbol": "circle"
           },
           "mode": "markers",
           "name": "Best",
           "orientation": "v",
           "showlegend": true,
           "type": "scatter",
           "x": [
            35182,
            37468,
            41209,
            30157
           ],
           "xaxis": "x",
           "y": [
            3290,
            3740,
            3651,
            3478
           ],
           "yaxis": "y"
          }
         ],
         "name": "Sunday"
        },
        {
         "data": [
          {
           "hovertemplate": "Kind_of_trips=Bad<br>days=Monday<br>trips=%{marker.size}<br>vehicles=%{y}<extra></extra>",
           "ids": [
            984,
            6012,
            7899,
            5798,
            1133,
            1711,
            1399,
            7915,
            9107,
            7028,
            7775,
            1568,
            1025,
            5609,
            7608,
            5919,
            1363,
            7565,
            1000,
            2607,
            9511,
            1904,
            8135,
            1565,
            2894,
            9052,
            1576,
            4875,
            8943,
            5823,
            1844
           ],
           "legendgroup": "Bad",
           "marker": {
            "color": "#636efa",
            "size": [
             984,
             6012,
             7899,
             5798,
             1133,
             1711,
             1399,
             7915,
             9107,
             7028,
             7775,
             1568,
             1025,
             5609,
             7608,
             5919,
             1363,
             7565,
             1000,
             2607,
             9511,
             1904,
             8135,
             1565,
             2894,
             9052,
             1576,
             4875,
             8943,
             5823,
             1844
            ],
            "sizemode": "area",
            "sizeref": 114.645,
            "symbol": "circle"
           },
           "mode": "markers",
           "name": "Bad",
           "orientation": "v",
           "showlegend": true,
           "type": "scatter",
           "x": [
            984,
            6012,
            7899,
            5798,
            1133,
            1711,
            1399,
            7915,
            9107,
            7028,
            7775,
            1568,
            1025,
            5609,
            7608,
            5919,
            1363,
            7565,
            1000,
            2607,
            9511,
            1904,
            8135,
            1565,
            2894,
            9052,
            1576,
            4875,
            8943,
            5823,
            1844
           ],
           "xaxis": "x",
           "y": [
            194,
            951,
            1218,
            907,
            227,
            279,
            217,
            964,
            1082,
            883,
            992,
            238,
            168,
            706,
            1150,
            860,
            230,
            1084,
            197,
            275,
            939,
            227,
            976,
            228,
            388,
            934,
            207,
            508,
            966,
            665,
            238
           ],
           "yaxis": "y"
          },
          {
           "hovertemplate": "Kind_of_trips=Good<br>days=Monday<br>trips=%{marker.size}<br>vehicles=%{y}<extra></extra>",
           "ids": [
            20926,
            26852,
            22750,
            28266
           ],
           "legendgroup": "Good",
           "marker": {
            "color": "#EF553B",
            "size": [
             20926,
             26852,
             22750,
             28266
            ],
            "sizemode": "area",
            "sizeref": 114.645,
            "symbol": "circle"
           },
           "mode": "markers",
           "name": "Good",
           "orientation": "v",
           "showlegend": true,
           "type": "scatter",
           "x": [
            20926,
            26852,
            22750,
            28266
           ],
           "xaxis": "x",
           "y": [
            3387,
            3499,
            2958,
            3543
           ],
           "yaxis": "y"
          },
          {
           "hovertemplate": "Kind_of_trips=Normal<br>days=Monday<br>trips=%{marker.size}<br>vehicles=%{y}<extra></extra>",
           "ids": [
            10662,
            19940,
            12216,
            11981,
            10887,
            10209,
            11824,
            11323,
            11720,
            11714
           ],
           "legendgroup": "Normal",
           "marker": {
            "color": "#00cc96",
            "size": [
             10662,
             19940,
             12216,
             11981,
             10887,
             10209,
             11824,
             11323,
             11720,
             11714
            ],
            "sizemode": "area",
            "sizeref": 114.645,
            "symbol": "circle"
           },
           "mode": "markers",
           "name": "Normal",
           "orientation": "v",
           "showlegend": true,
           "type": "scatter",
           "x": [
            10662,
            19940,
            12216,
            11981,
            10887,
            10209,
            11824,
            11323,
            11720,
            11714
           ],
           "xaxis": "x",
           "y": [
            1323,
            3012,
            1217,
            1152,
            1312,
            1241,
            1214,
            1164,
            1332,
            1262
           ],
           "yaxis": "y"
          },
          {
           "hovertemplate": "Kind_of_trips=Best<br>days=Monday<br>trips=%{marker.size}<br>vehicles=%{y}<extra></extra>",
           "ids": [
            30761,
            33448,
            31173
           ],
           "legendgroup": "Best",
           "marker": {
            "color": "#ab63fa",
            "size": [
             30761,
             33448,
             31173
            ],
            "sizemode": "area",
            "sizeref": 114.645,
            "symbol": "circle"
           },
           "mode": "markers",
           "name": "Best",
           "orientation": "v",
           "showlegend": true,
           "type": "scatter",
           "x": [
            30761,
            33448,
            31173
           ],
           "xaxis": "x",
           "y": [
            3270,
            3524,
            3734
           ],
           "yaxis": "y"
          }
         ],
         "name": "Monday"
        },
        {
         "data": [
          {
           "hovertemplate": "Kind_of_trips=Bad<br>days=Tuesday<br>trips=%{marker.size}<br>vehicles=%{y}<extra></extra>",
           "ids": [
            7491,
            1376,
            1314,
            6816,
            1697,
            8713,
            1652,
            9629,
            7206,
            8496,
            1310,
            1608,
            4414,
            921,
            4325,
            2957,
            629,
            2410,
            9602,
            1915,
            1555,
            3432,
            8718,
            1797,
            9463,
            4907,
            1869,
            9954,
            6390
           ],
           "legendgroup": "Bad",
           "marker": {
            "color": "#636efa",
            "size": [
             7491,
             1376,
             1314,
             6816,
             1697,
             8713,
             1652,
             9629,
             7206,
             8496,
             1310,
             1608,
             4414,
             921,
             4325,
             2957,
             629,
             2410,
             9602,
             1915,
             1555,
             3432,
             8718,
             1797,
             9463,
             4907,
             1869,
             9954,
             6390
            ],
            "sizemode": "area",
            "sizeref": 114.645,
            "symbol": "circle"
           },
           "mode": "markers",
           "name": "Bad",
           "orientation": "v",
           "showlegend": true,
           "type": "scatter",
           "x": [
            7491,
            1376,
            1314,
            6816,
            1697,
            8713,
            1652,
            9629,
            7206,
            8496,
            1310,
            1608,
            4414,
            921,
            4325,
            2957,
            629,
            2410,
            9602,
            1915,
            1555,
            3432,
            8718,
            1797,
            9463,
            4907,
            1869,
            9954,
            6390
           ],
           "xaxis": "x",
           "y": [
            1022,
            234,
            218,
            933,
            258,
            975,
            234,
            1092,
            944,
            1151,
            221,
            272,
            600,
            135,
            596,
            434,
            112,
            299,
            991,
            257,
            233,
            422,
            1029,
            241,
            1066,
            578,
            247,
            1061,
            698
           ],
           "yaxis": "y"
          },
          {
           "hovertemplate": "Kind_of_trips=Good<br>days=Tuesday<br>trips=%{marker.size}<br>vehicles=%{y}<extra></extra>",
           "ids": [
            25301,
            29983,
            26137,
            29124
           ],
           "legendgroup": "Good",
           "marker": {
            "color": "#EF553B",
            "size": [
             25301,
             29983,
             26137,
             29124
            ],
            "sizemode": "area",
            "sizeref": 114.645,
            "symbol": "circle"
           },
           "mode": "markers",
           "name": "Good",
           "orientation": "v",
           "showlegend": true,
           "type": "scatter",
           "x": [
            25301,
            29983,
            26137,
            29124
           ],
           "xaxis": "x",
           "y": [
            3473,
            3658,
            3654,
            3700
           ],
           "yaxis": "y"
          },
          {
           "hovertemplate": "Kind_of_trips=Normal<br>days=Tuesday<br>trips=%{marker.size}<br>vehicles=%{y}<extra></extra>",
           "ids": [
            10128,
            11825,
            10015,
            11998,
            12665,
            11955,
            11401,
            10536,
            11887,
            12524,
            12497,
            13719
           ],
           "legendgroup": "Normal",
           "marker": {
            "color": "#00cc96",
            "size": [
             10128,
             11825,
             10015,
             11998,
             12665,
             11955,
             11401,
             10536,
             11887,
             12524,
             12497,
             13719
            ],
            "sizemode": "area",
            "sizeref": 114.645,
            "symbol": "circle"
           },
           "mode": "markers",
           "name": "Normal",
           "orientation": "v",
           "showlegend": true,
           "type": "scatter",
           "x": [
            10128,
            11825,
            10015,
            11998,
            12665,
            11955,
            11401,
            10536,
            11887,
            12524,
            12497,
            13719
           ],
           "xaxis": "x",
           "y": [
            1336,
            1342,
            1350,
            1619,
            1350,
            1269,
            1364,
            1281,
            1314,
            1378,
            1346,
            1456
           ],
           "yaxis": "y"
          },
          {
           "hovertemplate": "Kind_of_trips=Best<br>days=Tuesday<br>trips=%{marker.size}<br>vehicles=%{y}<extra></extra>",
           "ids": [
            31641,
            32473,
            34686
           ],
           "legendgroup": "Best",
           "marker": {
            "color": "#ab63fa",
            "size": [
             31641,
             32473,
             34686
            ],
            "sizemode": "area",
            "sizeref": 114.645,
            "symbol": "circle"
           },
           "mode": "markers",
           "name": "Best",
           "orientation": "v",
           "showlegend": true,
           "type": "scatter",
           "x": [
            31641,
            32473,
            34686
           ],
           "xaxis": "x",
           "y": [
            3674,
            3826,
            3965
           ],
           "yaxis": "y"
          }
         ],
         "name": "Tuesday"
        },
        {
         "data": [
          {
           "hovertemplate": "Kind_of_trips=Bad<br>days=Wednesday<br>trips=%{marker.size}<br>vehicles=%{y}<extra></extra>",
           "ids": [
            9078,
            1704,
            1446,
            8397,
            1600,
            8870,
            1582,
            9762,
            1519,
            9472,
            8041,
            1774,
            1913,
            8071,
            1438,
            2334,
            1639,
            9600,
            1831,
            3778,
            9538,
            5059,
            1589,
            1647,
            9405,
            6178
           ],
           "legendgroup": "Bad",
           "marker": {
            "color": "#636efa",
            "size": [
             9078,
             1704,
             1446,
             8397,
             1600,
             8870,
             1582,
             9762,
             1519,
             9472,
             8041,
             1774,
             1913,
             8071,
             1438,
             2334,
             1639,
             9600,
             1831,
             3778,
             9538,
             5059,
             1589,
             1647,
             9405,
             6178
            ],
            "sizemode": "area",
            "sizeref": 114.645,
            "symbol": "circle"
           },
           "mode": "markers",
           "name": "Bad",
           "orientation": "v",
           "showlegend": true,
           "type": "scatter",
           "x": [
            9078,
            1704,
            1446,
            8397,
            1600,
            8870,
            1582,
            9762,
            1519,
            9472,
            8041,
            1774,
            1913,
            8071,
            1438,
            2334,
            1639,
            9600,
            1831,
            3778,
            9538,
            5059,
            1589,
            1647,
            9405,
            6178
           ],
           "xaxis": "x",
           "y": [
            1039,
            248,
            217,
            974,
            271,
            1030,
            233,
            1174,
            242,
            1228,
            1035,
            296,
            286,
            1011,
            235,
            309,
            244,
            1072,
            255,
            450,
            1078,
            586,
            228,
            246,
            1076,
            706
           ],
           "yaxis": "y"
          },
          {
           "hovertemplate": "Kind_of_trips=Good<br>days=Wednesday<br>trips=%{marker.size}<br>vehicles=%{y}<extra></extra>",
           "ids": [
            29949,
            29550,
            27344,
            28137,
            29994
           ],
           "legendgroup": "Good",
           "marker": {
            "color": "#EF553B",
            "size": [
             29949,
             29550,
             27344,
             28137,
             29994
            ],
            "sizemode": "area",
            "sizeref": 114.645,
            "symbol": "circle"
           },
           "mode": "markers",
           "name": "Good",
           "orientation": "v",
           "showlegend": true,
           "type": "scatter",
           "x": [
            29949,
            29550,
            27344,
            28137,
            29994
           ],
           "xaxis": "x",
           "y": [
            3603,
            3736,
            3718,
            3692,
            3856
           ],
           "yaxis": "y"
          },
          {
           "hovertemplate": "Kind_of_trips=Normal<br>days=Wednesday<br>trips=%{marker.size}<br>vehicles=%{y}<extra></extra>",
           "ids": [
            11528,
            11965,
            10997,
            10025,
            10862,
            11309,
            11959,
            12749,
            10034,
            12189,
            11724,
            12016,
            12693,
            12811
           ],
           "legendgroup": "Normal",
           "marker": {
            "color": "#00cc96",
            "size": [
             11528,
             11965,
             10997,
             10025,
             10862,
             11309,
             11959,
             12749,
             10034,
             12189,
             11724,
             12016,
             12693,
             12811
            ],
            "sizemode": "area",
            "sizeref": 114.645,
            "symbol": "circle"
           },
           "mode": "markers",
           "name": "Normal",
           "orientation": "v",
           "showlegend": true,
           "type": "scatter",
           "x": [
            11528,
            11965,
            10997,
            10025,
            10862,
            11309,
            11959,
            12749,
            10034,
            12189,
            11724,
            12016,
            12693,
            12811
           ],
           "xaxis": "x",
           "y": [
            1363,
            1405,
            1429,
            1235,
            1356,
            1311,
            1393,
            1450,
            1115,
            1396,
            1314,
            1394,
            1395,
            1473
           ],
           "yaxis": "y"
          },
          {
           "hovertemplate": "Kind_of_trips=Best<br>days=Wednesday<br>trips=%{marker.size}<br>vehicles=%{y}<extra></extra>",
           "ids": [
            31889,
            32317,
            31957
           ],
           "legendgroup": "Best",
           "marker": {
            "color": "#ab63fa",
            "size": [
             31889,
             32317,
             31957
            ],
            "sizemode": "area",
            "sizeref": 114.645,
            "symbol": "circle"
           },
           "mode": "markers",
           "name": "Best",
           "orientation": "v",
           "showlegend": true,
           "type": "scatter",
           "x": [
            31889,
            32317,
            31957
           ],
           "xaxis": "x",
           "y": [
            3849,
            3842,
            3934
           ],
           "yaxis": "y"
          }
         ],
         "name": "Wednesday"
        }
       ],
       "layout": {
        "height": 1000,
        "legend": {
         "itemsizing": "constant",
         "title": {
          "text": "Kind_of_trips"
         },
         "tracegroupgap": 0
        },
        "margin": {
         "t": 60
        },
        "sliders": [
         {
          "active": 0,
          "currentvalue": {
           "prefix": "days="
          },
          "len": 0.9,
          "pad": {
           "b": 10,
           "t": 60
          },
          "steps": [
           {
            "args": [
             [
              "Thursday"
             ],
             {
              "frame": {
               "duration": 0,
               "redraw": false
              },
              "fromcurrent": true,
              "mode": "immediate",
              "transition": {
               "duration": 0,
               "easing": "linear"
              }
             }
            ],
            "label": "Thursday",
            "method": "animate"
           },
           {
            "args": [
             [
              "Friday"
             ],
             {
              "frame": {
               "duration": 0,
               "redraw": false
              },
              "fromcurrent": true,
              "mode": "immediate",
              "transition": {
               "duration": 0,
               "easing": "linear"
              }
             }
            ],
            "label": "Friday",
            "method": "animate"
           },
           {
            "args": [
             [
              "Saturday"
             ],
             {
              "frame": {
               "duration": 0,
               "redraw": false
              },
              "fromcurrent": true,
              "mode": "immediate",
              "transition": {
               "duration": 0,
               "easing": "linear"
              }
             }
            ],
            "label": "Saturday",
            "method": "animate"
           },
           {
            "args": [
             [
              "Sunday"
             ],
             {
              "frame": {
               "duration": 0,
               "redraw": false
              },
              "fromcurrent": true,
              "mode": "immediate",
              "transition": {
               "duration": 0,
               "easing": "linear"
              }
             }
            ],
            "label": "Sunday",
            "method": "animate"
           },
           {
            "args": [
             [
              "Monday"
             ],
             {
              "frame": {
               "duration": 0,
               "redraw": false
              },
              "fromcurrent": true,
              "mode": "immediate",
              "transition": {
               "duration": 0,
               "easing": "linear"
              }
             }
            ],
            "label": "Monday",
            "method": "animate"
           },
           {
            "args": [
             [
              "Tuesday"
             ],
             {
              "frame": {
               "duration": 0,
               "redraw": false
              },
              "fromcurrent": true,
              "mode": "immediate",
              "transition": {
               "duration": 0,
               "easing": "linear"
              }
             }
            ],
            "label": "Tuesday",
            "method": "animate"
           },
           {
            "args": [
             [
              "Wednesday"
             ],
             {
              "frame": {
               "duration": 0,
               "redraw": false
              },
              "fromcurrent": true,
              "mode": "immediate",
              "transition": {
               "duration": 0,
               "easing": "linear"
              }
             }
            ],
            "label": "Wednesday",
            "method": "animate"
           }
          ],
          "x": 0.1,
          "xanchor": "left",
          "y": 0,
          "yanchor": "top"
         }
        ],
        "template": {
         "data": {
          "bar": [
           {
            "error_x": {
             "color": "#f2f5fa"
            },
            "error_y": {
             "color": "#f2f5fa"
            },
            "marker": {
             "line": {
              "color": "rgb(17,17,17)",
              "width": 0.5
             },
             "pattern": {
              "fillmode": "overlay",
              "size": 10,
              "solidity": 0.2
             }
            },
            "type": "bar"
           }
          ],
          "barpolar": [
           {
            "marker": {
             "line": {
              "color": "rgb(17,17,17)",
              "width": 0.5
             },
             "pattern": {
              "fillmode": "overlay",
              "size": 10,
              "solidity": 0.2
             }
            },
            "type": "barpolar"
           }
          ],
          "carpet": [
           {
            "aaxis": {
             "endlinecolor": "#A2B1C6",
             "gridcolor": "#506784",
             "linecolor": "#506784",
             "minorgridcolor": "#506784",
             "startlinecolor": "#A2B1C6"
            },
            "baxis": {
             "endlinecolor": "#A2B1C6",
             "gridcolor": "#506784",
             "linecolor": "#506784",
             "minorgridcolor": "#506784",
             "startlinecolor": "#A2B1C6"
            },
            "type": "carpet"
           }
          ],
          "choropleth": [
           {
            "colorbar": {
             "outlinewidth": 0,
             "ticks": ""
            },
            "type": "choropleth"
           }
          ],
          "contour": [
           {
            "colorbar": {
             "outlinewidth": 0,
             "ticks": ""
            },
            "colorscale": [
             [
              0,
              "#0d0887"
             ],
             [
              0.1111111111111111,
              "#46039f"
             ],
             [
              0.2222222222222222,
              "#7201a8"
             ],
             [
              0.3333333333333333,
              "#9c179e"
             ],
             [
              0.4444444444444444,
              "#bd3786"
             ],
             [
              0.5555555555555556,
              "#d8576b"
             ],
             [
              0.6666666666666666,
              "#ed7953"
             ],
             [
              0.7777777777777778,
              "#fb9f3a"
             ],
             [
              0.8888888888888888,
              "#fdca26"
             ],
             [
              1,
              "#f0f921"
             ]
            ],
            "type": "contour"
           }
          ],
          "contourcarpet": [
           {
            "colorbar": {
             "outlinewidth": 0,
             "ticks": ""
            },
            "type": "contourcarpet"
           }
          ],
          "heatmap": [
           {
            "colorbar": {
             "outlinewidth": 0,
             "ticks": ""
            },
            "colorscale": [
             [
              0,
              "#0d0887"
             ],
             [
              0.1111111111111111,
              "#46039f"
             ],
             [
              0.2222222222222222,
              "#7201a8"
             ],
             [
              0.3333333333333333,
              "#9c179e"
             ],
             [
              0.4444444444444444,
              "#bd3786"
             ],
             [
              0.5555555555555556,
              "#d8576b"
             ],
             [
              0.6666666666666666,
              "#ed7953"
             ],
             [
              0.7777777777777778,
              "#fb9f3a"
             ],
             [
              0.8888888888888888,
              "#fdca26"
             ],
             [
              1,
              "#f0f921"
             ]
            ],
            "type": "heatmap"
           }
          ],
          "heatmapgl": [
           {
            "colorbar": {
             "outlinewidth": 0,
             "ticks": ""
            },
            "colorscale": [
             [
              0,
              "#0d0887"
             ],
             [
              0.1111111111111111,
              "#46039f"
             ],
             [
              0.2222222222222222,
              "#7201a8"
             ],
             [
              0.3333333333333333,
              "#9c179e"
             ],
             [
              0.4444444444444444,
              "#bd3786"
             ],
             [
              0.5555555555555556,
              "#d8576b"
             ],
             [
              0.6666666666666666,
              "#ed7953"
             ],
             [
              0.7777777777777778,
              "#fb9f3a"
             ],
             [
              0.8888888888888888,
              "#fdca26"
             ],
             [
              1,
              "#f0f921"
             ]
            ],
            "type": "heatmapgl"
           }
          ],
          "histogram": [
           {
            "marker": {
             "pattern": {
              "fillmode": "overlay",
              "size": 10,
              "solidity": 0.2
             }
            },
            "type": "histogram"
           }
          ],
          "histogram2d": [
           {
            "colorbar": {
             "outlinewidth": 0,
             "ticks": ""
            },
            "colorscale": [
             [
              0,
              "#0d0887"
             ],
             [
              0.1111111111111111,
              "#46039f"
             ],
             [
              0.2222222222222222,
              "#7201a8"
             ],
             [
              0.3333333333333333,
              "#9c179e"
             ],
             [
              0.4444444444444444,
              "#bd3786"
             ],
             [
              0.5555555555555556,
              "#d8576b"
             ],
             [
              0.6666666666666666,
              "#ed7953"
             ],
             [
              0.7777777777777778,
              "#fb9f3a"
             ],
             [
              0.8888888888888888,
              "#fdca26"
             ],
             [
              1,
              "#f0f921"
             ]
            ],
            "type": "histogram2d"
           }
          ],
          "histogram2dcontour": [
           {
            "colorbar": {
             "outlinewidth": 0,
             "ticks": ""
            },
            "colorscale": [
             [
              0,
              "#0d0887"
             ],
             [
              0.1111111111111111,
              "#46039f"
             ],
             [
              0.2222222222222222,
              "#7201a8"
             ],
             [
              0.3333333333333333,
              "#9c179e"
             ],
             [
              0.4444444444444444,
              "#bd3786"
             ],
             [
              0.5555555555555556,
              "#d8576b"
             ],
             [
              0.6666666666666666,
              "#ed7953"
             ],
             [
              0.7777777777777778,
              "#fb9f3a"
             ],
             [
              0.8888888888888888,
              "#fdca26"
             ],
             [
              1,
              "#f0f921"
             ]
            ],
            "type": "histogram2dcontour"
           }
          ],
          "mesh3d": [
           {
            "colorbar": {
             "outlinewidth": 0,
             "ticks": ""
            },
            "type": "mesh3d"
           }
          ],
          "parcoords": [
           {
            "line": {
             "colorbar": {
              "outlinewidth": 0,
              "ticks": ""
             }
            },
            "type": "parcoords"
           }
          ],
          "pie": [
           {
            "automargin": true,
            "type": "pie"
           }
          ],
          "scatter": [
           {
            "marker": {
             "line": {
              "color": "#283442"
             }
            },
            "type": "scatter"
           }
          ],
          "scatter3d": [
           {
            "line": {
             "colorbar": {
              "outlinewidth": 0,
              "ticks": ""
             }
            },
            "marker": {
             "colorbar": {
              "outlinewidth": 0,
              "ticks": ""
             }
            },
            "type": "scatter3d"
           }
          ],
          "scattercarpet": [
           {
            "marker": {
             "colorbar": {
              "outlinewidth": 0,
              "ticks": ""
             }
            },
            "type": "scattercarpet"
           }
          ],
          "scattergeo": [
           {
            "marker": {
             "colorbar": {
              "outlinewidth": 0,
              "ticks": ""
             }
            },
            "type": "scattergeo"
           }
          ],
          "scattergl": [
           {
            "marker": {
             "line": {
              "color": "#283442"
             }
            },
            "type": "scattergl"
           }
          ],
          "scattermapbox": [
           {
            "marker": {
             "colorbar": {
              "outlinewidth": 0,
              "ticks": ""
             }
            },
            "type": "scattermapbox"
           }
          ],
          "scatterpolar": [
           {
            "marker": {
             "colorbar": {
              "outlinewidth": 0,
              "ticks": ""
             }
            },
            "type": "scatterpolar"
           }
          ],
          "scatterpolargl": [
           {
            "marker": {
             "colorbar": {
              "outlinewidth": 0,
              "ticks": ""
             }
            },
            "type": "scatterpolargl"
           }
          ],
          "scatterternary": [
           {
            "marker": {
             "colorbar": {
              "outlinewidth": 0,
              "ticks": ""
             }
            },
            "type": "scatterternary"
           }
          ],
          "surface": [
           {
            "colorbar": {
             "outlinewidth": 0,
             "ticks": ""
            },
            "colorscale": [
             [
              0,
              "#0d0887"
             ],
             [
              0.1111111111111111,
              "#46039f"
             ],
             [
              0.2222222222222222,
              "#7201a8"
             ],
             [
              0.3333333333333333,
              "#9c179e"
             ],
             [
              0.4444444444444444,
              "#bd3786"
             ],
             [
              0.5555555555555556,
              "#d8576b"
             ],
             [
              0.6666666666666666,
              "#ed7953"
             ],
             [
              0.7777777777777778,
              "#fb9f3a"
             ],
             [
              0.8888888888888888,
              "#fdca26"
             ],
             [
              1,
              "#f0f921"
             ]
            ],
            "type": "surface"
           }
          ],
          "table": [
           {
            "cells": {
             "fill": {
              "color": "#506784"
             },
             "line": {
              "color": "rgb(17,17,17)"
             }
            },
            "header": {
             "fill": {
              "color": "#2a3f5f"
             },
             "line": {
              "color": "rgb(17,17,17)"
             }
            },
            "type": "table"
           }
          ]
         },
         "layout": {
          "annotationdefaults": {
           "arrowcolor": "#f2f5fa",
           "arrowhead": 0,
           "arrowwidth": 1
          },
          "autotypenumbers": "strict",
          "coloraxis": {
           "colorbar": {
            "outlinewidth": 0,
            "ticks": ""
           }
          },
          "colorscale": {
           "diverging": [
            [
             0,
             "#8e0152"
            ],
            [
             0.1,
             "#c51b7d"
            ],
            [
             0.2,
             "#de77ae"
            ],
            [
             0.3,
             "#f1b6da"
            ],
            [
             0.4,
             "#fde0ef"
            ],
            [
             0.5,
             "#f7f7f7"
            ],
            [
             0.6,
             "#e6f5d0"
            ],
            [
             0.7,
             "#b8e186"
            ],
            [
             0.8,
             "#7fbc41"
            ],
            [
             0.9,
             "#4d9221"
            ],
            [
             1,
             "#276419"
            ]
           ],
           "sequential": [
            [
             0,
             "#0d0887"
            ],
            [
             0.1111111111111111,
             "#46039f"
            ],
            [
             0.2222222222222222,
             "#7201a8"
            ],
            [
             0.3333333333333333,
             "#9c179e"
            ],
            [
             0.4444444444444444,
             "#bd3786"
            ],
            [
             0.5555555555555556,
             "#d8576b"
            ],
            [
             0.6666666666666666,
             "#ed7953"
            ],
            [
             0.7777777777777778,
             "#fb9f3a"
            ],
            [
             0.8888888888888888,
             "#fdca26"
            ],
            [
             1,
             "#f0f921"
            ]
           ],
           "sequentialminus": [
            [
             0,
             "#0d0887"
            ],
            [
             0.1111111111111111,
             "#46039f"
            ],
            [
             0.2222222222222222,
             "#7201a8"
            ],
            [
             0.3333333333333333,
             "#9c179e"
            ],
            [
             0.4444444444444444,
             "#bd3786"
            ],
            [
             0.5555555555555556,
             "#d8576b"
            ],
            [
             0.6666666666666666,
             "#ed7953"
            ],
            [
             0.7777777777777778,
             "#fb9f3a"
            ],
            [
             0.8888888888888888,
             "#fdca26"
            ],
            [
             1,
             "#f0f921"
            ]
           ]
          },
          "colorway": [
           "#636efa",
           "#EF553B",
           "#00cc96",
           "#ab63fa",
           "#FFA15A",
           "#19d3f3",
           "#FF6692",
           "#B6E880",
           "#FF97FF",
           "#FECB52"
          ],
          "font": {
           "color": "#f2f5fa"
          },
          "geo": {
           "bgcolor": "rgb(17,17,17)",
           "lakecolor": "rgb(17,17,17)",
           "landcolor": "rgb(17,17,17)",
           "showlakes": true,
           "showland": true,
           "subunitcolor": "#506784"
          },
          "hoverlabel": {
           "align": "left"
          },
          "hovermode": "closest",
          "mapbox": {
           "style": "dark"
          },
          "paper_bgcolor": "rgb(17,17,17)",
          "plot_bgcolor": "rgb(17,17,17)",
          "polar": {
           "angularaxis": {
            "gridcolor": "#506784",
            "linecolor": "#506784",
            "ticks": ""
           },
           "bgcolor": "rgb(17,17,17)",
           "radialaxis": {
            "gridcolor": "#506784",
            "linecolor": "#506784",
            "ticks": ""
           }
          },
          "scene": {
           "xaxis": {
            "backgroundcolor": "rgb(17,17,17)",
            "gridcolor": "#506784",
            "gridwidth": 2,
            "linecolor": "#506784",
            "showbackground": true,
            "ticks": "",
            "zerolinecolor": "#C8D4E3"
           },
           "yaxis": {
            "backgroundcolor": "rgb(17,17,17)",
            "gridcolor": "#506784",
            "gridwidth": 2,
            "linecolor": "#506784",
            "showbackground": true,
            "ticks": "",
            "zerolinecolor": "#C8D4E3"
           },
           "zaxis": {
            "backgroundcolor": "rgb(17,17,17)",
            "gridcolor": "#506784",
            "gridwidth": 2,
            "linecolor": "#506784",
            "showbackground": true,
            "ticks": "",
            "zerolinecolor": "#C8D4E3"
           }
          },
          "shapedefaults": {
           "line": {
            "color": "#f2f5fa"
           }
          },
          "sliderdefaults": {
           "bgcolor": "#C8D4E3",
           "bordercolor": "rgb(17,17,17)",
           "borderwidth": 1,
           "tickwidth": 0
          },
          "ternary": {
           "aaxis": {
            "gridcolor": "#506784",
            "linecolor": "#506784",
            "ticks": ""
           },
           "baxis": {
            "gridcolor": "#506784",
            "linecolor": "#506784",
            "ticks": ""
           },
           "bgcolor": "rgb(17,17,17)",
           "caxis": {
            "gridcolor": "#506784",
            "linecolor": "#506784",
            "ticks": ""
           }
          },
          "title": {
           "x": 0.05
          },
          "updatemenudefaults": {
           "bgcolor": "#506784",
           "borderwidth": 0
          },
          "xaxis": {
           "automargin": true,
           "gridcolor": "#283442",
           "linecolor": "#506784",
           "ticks": "",
           "title": {
            "standoff": 15
           },
           "zerolinecolor": "#283442",
           "zerolinewidth": 2
          },
          "yaxis": {
           "automargin": true,
           "gridcolor": "#283442",
           "linecolor": "#506784",
           "ticks": "",
           "title": {
            "standoff": 15
           },
           "zerolinecolor": "#283442",
           "zerolinewidth": 2
          }
         }
        },
        "updatemenus": [
         {
          "buttons": [
           {
            "args": [
             null,
             {
              "frame": {
               "duration": 500,
               "redraw": false
              },
              "fromcurrent": true,
              "mode": "immediate",
              "transition": {
               "duration": 500,
               "easing": "linear"
              }
             }
            ],
            "label": "&#9654;",
            "method": "animate"
           },
           {
            "args": [
             [
              null
             ],
             {
              "frame": {
               "duration": 0,
               "redraw": false
              },
              "fromcurrent": true,
              "mode": "immediate",
              "transition": {
               "duration": 0,
               "easing": "linear"
              }
             }
            ],
            "label": "&#9724;",
            "method": "animate"
           }
          ],
          "direction": "left",
          "pad": {
           "r": 10,
           "t": 70
          },
          "showactive": false,
          "type": "buttons",
          "x": 0.1,
          "xanchor": "right",
          "y": 0,
          "yanchor": "top"
         }
        ],
        "xaxis": {
         "anchor": "y",
         "domain": [
          0,
          1
         ],
         "title": {
          "text": "trips"
         }
        },
        "yaxis": {
         "anchor": "x",
         "domain": [
          0,
          1
         ],
         "title": {
          "text": "vehicles"
         }
        }
       }
      },
      "text/html": [
       "<div>                            <div id=\"ae7ed5c6-ee36-40c2-8002-0ffc768a6b9c\" class=\"plotly-graph-div\" style=\"height:1000px; width:100%;\"></div>            <script type=\"text/javascript\">                require([\"plotly\"], function(Plotly) {                    window.PLOTLYENV=window.PLOTLYENV || {};                                    if (document.getElementById(\"ae7ed5c6-ee36-40c2-8002-0ffc768a6b9c\")) {                    Plotly.newPlot(                        \"ae7ed5c6-ee36-40c2-8002-0ffc768a6b9c\",                        [{\"hovertemplate\":\"Kind_of_trips=Bad<br>days=Thursday<br>trips=%{marker.size}<br>vehicles=%{y}<extra></extra>\",\"ids\":[1132,1765,7679,9537,6903,1911,1772,1636,1797,9152,1551,9080,2038,2086,1687,9499,2022,3011,2092,4609,2120,6447,1797,6744],\"legendgroup\":\"Bad\",\"marker\":{\"color\":\"#636efa\",\"size\":[1132,1765,7679,9537,6903,1911,1772,1636,1797,9152,1551,9080,2038,2086,1687,9499,2022,3011,2092,4609,2120,6447,1797,6744],\"sizemode\":\"area\",\"sizeref\":114.645,\"symbol\":\"circle\"},\"mode\":\"markers\",\"name\":\"Bad\",\"orientation\":\"v\",\"showlegend\":true,\"x\":[1132,1765,7679,9537,6903,1911,1772,1636,1797,9152,1551,9080,2038,2086,1687,9499,2022,3011,2092,4609,2120,6447,1797,6744],\"xaxis\":\"x\",\"y\":[190,225,945,1228,870,262,238,237,270,1068,246,1071,295,295,250,1082,264,355,269,536,250,663,243,745],\"yaxis\":\"y\",\"type\":\"scatter\"},{\"hovertemplate\":\"Kind_of_trips=Good<br>days=Thursday<br>trips=%{marker.size}<br>vehicles=%{y}<extra></extra>\",\"ids\":[29421],\"legendgroup\":\"Good\",\"marker\":{\"color\":\"#EF553B\",\"size\":[29421],\"sizemode\":\"area\",\"sizeref\":114.645,\"symbol\":\"circle\"},\"mode\":\"markers\",\"name\":\"Good\",\"orientation\":\"v\",\"showlegend\":true,\"x\":[29421],\"xaxis\":\"x\",\"y\":[3427],\"yaxis\":\"y\",\"type\":\"scatter\"},{\"hovertemplate\":\"Kind_of_trips=Normal<br>days=Thursday<br>trips=%{marker.size}<br>vehicles=%{y}<extra></extra>\",\"ids\":[10050,10416,13462,10391,12539,12143,10699,12600,11485,14499,13782,11609,14263,13786,11640,11739,14591,14750,10661,14461,13814],\"legendgroup\":\"Normal\",\"marker\":{\"color\":\"#00cc96\",\"size\":[10050,10416,13462,10391,12539,12143,10699,12600,11485,14499,13782,11609,14263,13786,11640,11739,14591,14750,10661,14461,13814],\"sizemode\":\"area\",\"sizeref\":114.645,\"symbol\":\"circle\"},\"mode\":\"markers\",\"name\":\"Normal\",\"orientation\":\"v\",\"showlegend\":true,\"x\":[10050,10416,13462,10391,12539,12143,10699,12600,11485,14499,13782,11609,14263,13786,11640,11739,14591,14750,10661,14461,13814],\"xaxis\":\"x\",\"y\":[1070,1135,1463,1208,1457,1471,1295,1474,1316,1524,1418,1179,1532,1468,1181,1127,1428,1452,1134,1539,1465],\"yaxis\":\"y\",\"type\":\"scatter\"},{\"hovertemplate\":\"Kind_of_trips=Best<br>days=Thursday<br>trips=%{marker.size}<br>vehicles=%{y}<extra></extra>\",\"ids\":[33802,31214,30091,31637,35990,36844,39110,36091],\"legendgroup\":\"Best\",\"marker\":{\"color\":\"#ab63fa\",\"size\":[33802,31214,30091,31637,35990,36844,39110,36091],\"sizemode\":\"area\",\"sizeref\":114.645,\"symbol\":\"circle\"},\"mode\":\"markers\",\"name\":\"Best\",\"orientation\":\"v\",\"showlegend\":true,\"x\":[33802,31214,30091,31637,35990,36844,39110,36091],\"xaxis\":\"x\",\"y\":[3831,3840,3889,3959,4093,4137,4110,4101],\"yaxis\":\"y\",\"type\":\"scatter\"}],                        {\"template\":{\"data\":{\"barpolar\":[{\"marker\":{\"line\":{\"color\":\"rgb(17,17,17)\",\"width\":0.5},\"pattern\":{\"fillmode\":\"overlay\",\"size\":10,\"solidity\":0.2}},\"type\":\"barpolar\"}],\"bar\":[{\"error_x\":{\"color\":\"#f2f5fa\"},\"error_y\":{\"color\":\"#f2f5fa\"},\"marker\":{\"line\":{\"color\":\"rgb(17,17,17)\",\"width\":0.5},\"pattern\":{\"fillmode\":\"overlay\",\"size\":10,\"solidity\":0.2}},\"type\":\"bar\"}],\"carpet\":[{\"aaxis\":{\"endlinecolor\":\"#A2B1C6\",\"gridcolor\":\"#506784\",\"linecolor\":\"#506784\",\"minorgridcolor\":\"#506784\",\"startlinecolor\":\"#A2B1C6\"},\"baxis\":{\"endlinecolor\":\"#A2B1C6\",\"gridcolor\":\"#506784\",\"linecolor\":\"#506784\",\"minorgridcolor\":\"#506784\",\"startlinecolor\":\"#A2B1C6\"},\"type\":\"carpet\"}],\"choropleth\":[{\"colorbar\":{\"outlinewidth\":0,\"ticks\":\"\"},\"type\":\"choropleth\"}],\"contourcarpet\":[{\"colorbar\":{\"outlinewidth\":0,\"ticks\":\"\"},\"type\":\"contourcarpet\"}],\"contour\":[{\"colorbar\":{\"outlinewidth\":0,\"ticks\":\"\"},\"colorscale\":[[0.0,\"#0d0887\"],[0.1111111111111111,\"#46039f\"],[0.2222222222222222,\"#7201a8\"],[0.3333333333333333,\"#9c179e\"],[0.4444444444444444,\"#bd3786\"],[0.5555555555555556,\"#d8576b\"],[0.6666666666666666,\"#ed7953\"],[0.7777777777777778,\"#fb9f3a\"],[0.8888888888888888,\"#fdca26\"],[1.0,\"#f0f921\"]],\"type\":\"contour\"}],\"heatmapgl\":[{\"colorbar\":{\"outlinewidth\":0,\"ticks\":\"\"},\"colorscale\":[[0.0,\"#0d0887\"],[0.1111111111111111,\"#46039f\"],[0.2222222222222222,\"#7201a8\"],[0.3333333333333333,\"#9c179e\"],[0.4444444444444444,\"#bd3786\"],[0.5555555555555556,\"#d8576b\"],[0.6666666666666666,\"#ed7953\"],[0.7777777777777778,\"#fb9f3a\"],[0.8888888888888888,\"#fdca26\"],[1.0,\"#f0f921\"]],\"type\":\"heatmapgl\"}],\"heatmap\":[{\"colorbar\":{\"outlinewidth\":0,\"ticks\":\"\"},\"colorscale\":[[0.0,\"#0d0887\"],[0.1111111111111111,\"#46039f\"],[0.2222222222222222,\"#7201a8\"],[0.3333333333333333,\"#9c179e\"],[0.4444444444444444,\"#bd3786\"],[0.5555555555555556,\"#d8576b\"],[0.6666666666666666,\"#ed7953\"],[0.7777777777777778,\"#fb9f3a\"],[0.8888888888888888,\"#fdca26\"],[1.0,\"#f0f921\"]],\"type\":\"heatmap\"}],\"histogram2dcontour\":[{\"colorbar\":{\"outlinewidth\":0,\"ticks\":\"\"},\"colorscale\":[[0.0,\"#0d0887\"],[0.1111111111111111,\"#46039f\"],[0.2222222222222222,\"#7201a8\"],[0.3333333333333333,\"#9c179e\"],[0.4444444444444444,\"#bd3786\"],[0.5555555555555556,\"#d8576b\"],[0.6666666666666666,\"#ed7953\"],[0.7777777777777778,\"#fb9f3a\"],[0.8888888888888888,\"#fdca26\"],[1.0,\"#f0f921\"]],\"type\":\"histogram2dcontour\"}],\"histogram2d\":[{\"colorbar\":{\"outlinewidth\":0,\"ticks\":\"\"},\"colorscale\":[[0.0,\"#0d0887\"],[0.1111111111111111,\"#46039f\"],[0.2222222222222222,\"#7201a8\"],[0.3333333333333333,\"#9c179e\"],[0.4444444444444444,\"#bd3786\"],[0.5555555555555556,\"#d8576b\"],[0.6666666666666666,\"#ed7953\"],[0.7777777777777778,\"#fb9f3a\"],[0.8888888888888888,\"#fdca26\"],[1.0,\"#f0f921\"]],\"type\":\"histogram2d\"}],\"histogram\":[{\"marker\":{\"pattern\":{\"fillmode\":\"overlay\",\"size\":10,\"solidity\":0.2}},\"type\":\"histogram\"}],\"mesh3d\":[{\"colorbar\":{\"outlinewidth\":0,\"ticks\":\"\"},\"type\":\"mesh3d\"}],\"parcoords\":[{\"line\":{\"colorbar\":{\"outlinewidth\":0,\"ticks\":\"\"}},\"type\":\"parcoords\"}],\"pie\":[{\"automargin\":true,\"type\":\"pie\"}],\"scatter3d\":[{\"line\":{\"colorbar\":{\"outlinewidth\":0,\"ticks\":\"\"}},\"marker\":{\"colorbar\":{\"outlinewidth\":0,\"ticks\":\"\"}},\"type\":\"scatter3d\"}],\"scattercarpet\":[{\"marker\":{\"colorbar\":{\"outlinewidth\":0,\"ticks\":\"\"}},\"type\":\"scattercarpet\"}],\"scattergeo\":[{\"marker\":{\"colorbar\":{\"outlinewidth\":0,\"ticks\":\"\"}},\"type\":\"scattergeo\"}],\"scattergl\":[{\"marker\":{\"line\":{\"color\":\"#283442\"}},\"type\":\"scattergl\"}],\"scattermapbox\":[{\"marker\":{\"colorbar\":{\"outlinewidth\":0,\"ticks\":\"\"}},\"type\":\"scattermapbox\"}],\"scatterpolargl\":[{\"marker\":{\"colorbar\":{\"outlinewidth\":0,\"ticks\":\"\"}},\"type\":\"scatterpolargl\"}],\"scatterpolar\":[{\"marker\":{\"colorbar\":{\"outlinewidth\":0,\"ticks\":\"\"}},\"type\":\"scatterpolar\"}],\"scatter\":[{\"marker\":{\"line\":{\"color\":\"#283442\"}},\"type\":\"scatter\"}],\"scatterternary\":[{\"marker\":{\"colorbar\":{\"outlinewidth\":0,\"ticks\":\"\"}},\"type\":\"scatterternary\"}],\"surface\":[{\"colorbar\":{\"outlinewidth\":0,\"ticks\":\"\"},\"colorscale\":[[0.0,\"#0d0887\"],[0.1111111111111111,\"#46039f\"],[0.2222222222222222,\"#7201a8\"],[0.3333333333333333,\"#9c179e\"],[0.4444444444444444,\"#bd3786\"],[0.5555555555555556,\"#d8576b\"],[0.6666666666666666,\"#ed7953\"],[0.7777777777777778,\"#fb9f3a\"],[0.8888888888888888,\"#fdca26\"],[1.0,\"#f0f921\"]],\"type\":\"surface\"}],\"table\":[{\"cells\":{\"fill\":{\"color\":\"#506784\"},\"line\":{\"color\":\"rgb(17,17,17)\"}},\"header\":{\"fill\":{\"color\":\"#2a3f5f\"},\"line\":{\"color\":\"rgb(17,17,17)\"}},\"type\":\"table\"}]},\"layout\":{\"annotationdefaults\":{\"arrowcolor\":\"#f2f5fa\",\"arrowhead\":0,\"arrowwidth\":1},\"autotypenumbers\":\"strict\",\"coloraxis\":{\"colorbar\":{\"outlinewidth\":0,\"ticks\":\"\"}},\"colorscale\":{\"diverging\":[[0,\"#8e0152\"],[0.1,\"#c51b7d\"],[0.2,\"#de77ae\"],[0.3,\"#f1b6da\"],[0.4,\"#fde0ef\"],[0.5,\"#f7f7f7\"],[0.6,\"#e6f5d0\"],[0.7,\"#b8e186\"],[0.8,\"#7fbc41\"],[0.9,\"#4d9221\"],[1,\"#276419\"]],\"sequential\":[[0.0,\"#0d0887\"],[0.1111111111111111,\"#46039f\"],[0.2222222222222222,\"#7201a8\"],[0.3333333333333333,\"#9c179e\"],[0.4444444444444444,\"#bd3786\"],[0.5555555555555556,\"#d8576b\"],[0.6666666666666666,\"#ed7953\"],[0.7777777777777778,\"#fb9f3a\"],[0.8888888888888888,\"#fdca26\"],[1.0,\"#f0f921\"]],\"sequentialminus\":[[0.0,\"#0d0887\"],[0.1111111111111111,\"#46039f\"],[0.2222222222222222,\"#7201a8\"],[0.3333333333333333,\"#9c179e\"],[0.4444444444444444,\"#bd3786\"],[0.5555555555555556,\"#d8576b\"],[0.6666666666666666,\"#ed7953\"],[0.7777777777777778,\"#fb9f3a\"],[0.8888888888888888,\"#fdca26\"],[1.0,\"#f0f921\"]]},\"colorway\":[\"#636efa\",\"#EF553B\",\"#00cc96\",\"#ab63fa\",\"#FFA15A\",\"#19d3f3\",\"#FF6692\",\"#B6E880\",\"#FF97FF\",\"#FECB52\"],\"font\":{\"color\":\"#f2f5fa\"},\"geo\":{\"bgcolor\":\"rgb(17,17,17)\",\"lakecolor\":\"rgb(17,17,17)\",\"landcolor\":\"rgb(17,17,17)\",\"showlakes\":true,\"showland\":true,\"subunitcolor\":\"#506784\"},\"hoverlabel\":{\"align\":\"left\"},\"hovermode\":\"closest\",\"mapbox\":{\"style\":\"dark\"},\"paper_bgcolor\":\"rgb(17,17,17)\",\"plot_bgcolor\":\"rgb(17,17,17)\",\"polar\":{\"angularaxis\":{\"gridcolor\":\"#506784\",\"linecolor\":\"#506784\",\"ticks\":\"\"},\"bgcolor\":\"rgb(17,17,17)\",\"radialaxis\":{\"gridcolor\":\"#506784\",\"linecolor\":\"#506784\",\"ticks\":\"\"}},\"scene\":{\"xaxis\":{\"backgroundcolor\":\"rgb(17,17,17)\",\"gridcolor\":\"#506784\",\"gridwidth\":2,\"linecolor\":\"#506784\",\"showbackground\":true,\"ticks\":\"\",\"zerolinecolor\":\"#C8D4E3\"},\"yaxis\":{\"backgroundcolor\":\"rgb(17,17,17)\",\"gridcolor\":\"#506784\",\"gridwidth\":2,\"linecolor\":\"#506784\",\"showbackground\":true,\"ticks\":\"\",\"zerolinecolor\":\"#C8D4E3\"},\"zaxis\":{\"backgroundcolor\":\"rgb(17,17,17)\",\"gridcolor\":\"#506784\",\"gridwidth\":2,\"linecolor\":\"#506784\",\"showbackground\":true,\"ticks\":\"\",\"zerolinecolor\":\"#C8D4E3\"}},\"shapedefaults\":{\"line\":{\"color\":\"#f2f5fa\"}},\"sliderdefaults\":{\"bgcolor\":\"#C8D4E3\",\"bordercolor\":\"rgb(17,17,17)\",\"borderwidth\":1,\"tickwidth\":0},\"ternary\":{\"aaxis\":{\"gridcolor\":\"#506784\",\"linecolor\":\"#506784\",\"ticks\":\"\"},\"baxis\":{\"gridcolor\":\"#506784\",\"linecolor\":\"#506784\",\"ticks\":\"\"},\"bgcolor\":\"rgb(17,17,17)\",\"caxis\":{\"gridcolor\":\"#506784\",\"linecolor\":\"#506784\",\"ticks\":\"\"}},\"title\":{\"x\":0.05},\"updatemenudefaults\":{\"bgcolor\":\"#506784\",\"borderwidth\":0},\"xaxis\":{\"automargin\":true,\"gridcolor\":\"#283442\",\"linecolor\":\"#506784\",\"ticks\":\"\",\"title\":{\"standoff\":15},\"zerolinecolor\":\"#283442\",\"zerolinewidth\":2},\"yaxis\":{\"automargin\":true,\"gridcolor\":\"#283442\",\"linecolor\":\"#506784\",\"ticks\":\"\",\"title\":{\"standoff\":15},\"zerolinecolor\":\"#283442\",\"zerolinewidth\":2}}},\"xaxis\":{\"anchor\":\"y\",\"domain\":[0.0,1.0],\"title\":{\"text\":\"trips\"}},\"yaxis\":{\"anchor\":\"x\",\"domain\":[0.0,1.0],\"title\":{\"text\":\"vehicles\"}},\"legend\":{\"title\":{\"text\":\"Kind_of_trips\"},\"tracegroupgap\":0,\"itemsizing\":\"constant\"},\"margin\":{\"t\":60},\"height\":1000,\"updatemenus\":[{\"buttons\":[{\"args\":[null,{\"frame\":{\"duration\":500,\"redraw\":false},\"mode\":\"immediate\",\"fromcurrent\":true,\"transition\":{\"duration\":500,\"easing\":\"linear\"}}],\"label\":\"&#9654;\",\"method\":\"animate\"},{\"args\":[[null],{\"frame\":{\"duration\":0,\"redraw\":false},\"mode\":\"immediate\",\"fromcurrent\":true,\"transition\":{\"duration\":0,\"easing\":\"linear\"}}],\"label\":\"&#9724;\",\"method\":\"animate\"}],\"direction\":\"left\",\"pad\":{\"r\":10,\"t\":70},\"showactive\":false,\"type\":\"buttons\",\"x\":0.1,\"xanchor\":\"right\",\"y\":0,\"yanchor\":\"top\"}],\"sliders\":[{\"active\":0,\"currentvalue\":{\"prefix\":\"days=\"},\"len\":0.9,\"pad\":{\"b\":10,\"t\":60},\"steps\":[{\"args\":[[\"Thursday\"],{\"frame\":{\"duration\":0,\"redraw\":false},\"mode\":\"immediate\",\"fromcurrent\":true,\"transition\":{\"duration\":0,\"easing\":\"linear\"}}],\"label\":\"Thursday\",\"method\":\"animate\"},{\"args\":[[\"Friday\"],{\"frame\":{\"duration\":0,\"redraw\":false},\"mode\":\"immediate\",\"fromcurrent\":true,\"transition\":{\"duration\":0,\"easing\":\"linear\"}}],\"label\":\"Friday\",\"method\":\"animate\"},{\"args\":[[\"Saturday\"],{\"frame\":{\"duration\":0,\"redraw\":false},\"mode\":\"immediate\",\"fromcurrent\":true,\"transition\":{\"duration\":0,\"easing\":\"linear\"}}],\"label\":\"Saturday\",\"method\":\"animate\"},{\"args\":[[\"Sunday\"],{\"frame\":{\"duration\":0,\"redraw\":false},\"mode\":\"immediate\",\"fromcurrent\":true,\"transition\":{\"duration\":0,\"easing\":\"linear\"}}],\"label\":\"Sunday\",\"method\":\"animate\"},{\"args\":[[\"Monday\"],{\"frame\":{\"duration\":0,\"redraw\":false},\"mode\":\"immediate\",\"fromcurrent\":true,\"transition\":{\"duration\":0,\"easing\":\"linear\"}}],\"label\":\"Monday\",\"method\":\"animate\"},{\"args\":[[\"Tuesday\"],{\"frame\":{\"duration\":0,\"redraw\":false},\"mode\":\"immediate\",\"fromcurrent\":true,\"transition\":{\"duration\":0,\"easing\":\"linear\"}}],\"label\":\"Tuesday\",\"method\":\"animate\"},{\"args\":[[\"Wednesday\"],{\"frame\":{\"duration\":0,\"redraw\":false},\"mode\":\"immediate\",\"fromcurrent\":true,\"transition\":{\"duration\":0,\"easing\":\"linear\"}}],\"label\":\"Wednesday\",\"method\":\"animate\"}],\"x\":0.1,\"xanchor\":\"left\",\"y\":0,\"yanchor\":\"top\"}]},                        {\"responsive\": true}                    ).then(function(){\n",
       "                            Plotly.addFrames('ae7ed5c6-ee36-40c2-8002-0ffc768a6b9c', [{\"data\":[{\"hovertemplate\":\"Kind_of_trips=Bad<br>days=Thursday<br>trips=%{marker.size}<br>vehicles=%{y}<extra></extra>\",\"ids\":[1132,1765,7679,9537,6903,1911,1772,1636,1797,9152,1551,9080,2038,2086,1687,9499,2022,3011,2092,4609,2120,6447,1797,6744],\"legendgroup\":\"Bad\",\"marker\":{\"color\":\"#636efa\",\"size\":[1132,1765,7679,9537,6903,1911,1772,1636,1797,9152,1551,9080,2038,2086,1687,9499,2022,3011,2092,4609,2120,6447,1797,6744],\"sizemode\":\"area\",\"sizeref\":114.645,\"symbol\":\"circle\"},\"mode\":\"markers\",\"name\":\"Bad\",\"orientation\":\"v\",\"showlegend\":true,\"x\":[1132,1765,7679,9537,6903,1911,1772,1636,1797,9152,1551,9080,2038,2086,1687,9499,2022,3011,2092,4609,2120,6447,1797,6744],\"xaxis\":\"x\",\"y\":[190,225,945,1228,870,262,238,237,270,1068,246,1071,295,295,250,1082,264,355,269,536,250,663,243,745],\"yaxis\":\"y\",\"type\":\"scatter\"},{\"hovertemplate\":\"Kind_of_trips=Good<br>days=Thursday<br>trips=%{marker.size}<br>vehicles=%{y}<extra></extra>\",\"ids\":[29421],\"legendgroup\":\"Good\",\"marker\":{\"color\":\"#EF553B\",\"size\":[29421],\"sizemode\":\"area\",\"sizeref\":114.645,\"symbol\":\"circle\"},\"mode\":\"markers\",\"name\":\"Good\",\"orientation\":\"v\",\"showlegend\":true,\"x\":[29421],\"xaxis\":\"x\",\"y\":[3427],\"yaxis\":\"y\",\"type\":\"scatter\"},{\"hovertemplate\":\"Kind_of_trips=Normal<br>days=Thursday<br>trips=%{marker.size}<br>vehicles=%{y}<extra></extra>\",\"ids\":[10050,10416,13462,10391,12539,12143,10699,12600,11485,14499,13782,11609,14263,13786,11640,11739,14591,14750,10661,14461,13814],\"legendgroup\":\"Normal\",\"marker\":{\"color\":\"#00cc96\",\"size\":[10050,10416,13462,10391,12539,12143,10699,12600,11485,14499,13782,11609,14263,13786,11640,11739,14591,14750,10661,14461,13814],\"sizemode\":\"area\",\"sizeref\":114.645,\"symbol\":\"circle\"},\"mode\":\"markers\",\"name\":\"Normal\",\"orientation\":\"v\",\"showlegend\":true,\"x\":[10050,10416,13462,10391,12539,12143,10699,12600,11485,14499,13782,11609,14263,13786,11640,11739,14591,14750,10661,14461,13814],\"xaxis\":\"x\",\"y\":[1070,1135,1463,1208,1457,1471,1295,1474,1316,1524,1418,1179,1532,1468,1181,1127,1428,1452,1134,1539,1465],\"yaxis\":\"y\",\"type\":\"scatter\"},{\"hovertemplate\":\"Kind_of_trips=Best<br>days=Thursday<br>trips=%{marker.size}<br>vehicles=%{y}<extra></extra>\",\"ids\":[33802,31214,30091,31637,35990,36844,39110,36091],\"legendgroup\":\"Best\",\"marker\":{\"color\":\"#ab63fa\",\"size\":[33802,31214,30091,31637,35990,36844,39110,36091],\"sizemode\":\"area\",\"sizeref\":114.645,\"symbol\":\"circle\"},\"mode\":\"markers\",\"name\":\"Best\",\"orientation\":\"v\",\"showlegend\":true,\"x\":[33802,31214,30091,31637,35990,36844,39110,36091],\"xaxis\":\"x\",\"y\":[3831,3840,3889,3959,4093,4137,4110,4101],\"yaxis\":\"y\",\"type\":\"scatter\"}],\"name\":\"Thursday\"},{\"data\":[{\"hovertemplate\":\"Kind_of_trips=Bad<br>days=Friday<br>trips=%{marker.size}<br>vehicles=%{y}<extra></extra>\",\"ids\":[4768,7065,875,5506,1001,1560,9538,2039,2082,1481,9838,9343,1670,2162,2016,2785,3569,1989,5909,2408,7824,2380,7563,2056],\"legendgroup\":\"Bad\",\"marker\":{\"color\":\"#636efa\",\"size\":[4768,7065,875,5506,1001,1560,9538,2039,2082,1481,9838,9343,1670,2162,2016,2785,3569,1989,5909,2408,7824,2380,7563,2056],\"sizemode\":\"area\",\"sizeref\":114.645,\"symbol\":\"circle\"},\"mode\":\"markers\",\"name\":\"Bad\",\"orientation\":\"v\",\"showlegend\":true,\"x\":[4768,7065,875,5506,1001,1560,9538,2039,2082,1481,9838,9343,1670,2162,2016,2785,3569,1989,5909,2408,7824,2380,7563,2056],\"xaxis\":\"x\",\"y\":[785,1137,175,890,196,224,1070,280,290,234,1079,1093,246,299,256,322,385,261,599,281,736,272,786,272],\"yaxis\":\"y\",\"type\":\"scatter\"},{\"hovertemplate\":\"Kind_of_trips=Normal<br>days=Friday<br>trips=%{marker.size}<br>vehicles=%{y}<extra></extra>\",\"ids\":[19974,13165,10477,12977,11280,13121,11767,14793,13852,11167,15417,11897,14375,16996,16088,13062,16856,12758,16342,14677,10755,14975],\"legendgroup\":\"Normal\",\"marker\":{\"color\":\"#00cc96\",\"size\":[19974,13165,10477,12977,11280,13121,11767,14793,13852,11167,15417,11897,14375,16996,16088,13062,16856,12758,16342,14677,10755,14975],\"sizemode\":\"area\",\"sizeref\":114.645,\"symbol\":\"circle\"},\"mode\":\"markers\",\"name\":\"Normal\",\"orientation\":\"v\",\"showlegend\":true,\"x\":[19974,13165,10477,12977,11280,13121,11767,14793,13852,11167,15417,11897,14375,16996,16088,13062,16856,12758,16342,14677,10755,14975],\"xaxis\":\"x\",\"y\":[3147,1455,1140,1445,1250,1482,1330,1501,1384,1106,1526,1181,1414,1590,1523,1216,1574,1186,1497,1551,1114,1510],\"yaxis\":\"y\",\"type\":\"scatter\"},{\"hovertemplate\":\"Kind_of_trips=Best<br>days=Friday<br>trips=%{marker.size}<br>vehicles=%{y}<extra></extra>\",\"ids\":[33517,34822,33756,39110,38693,43561,44755,38780],\"legendgroup\":\"Best\",\"marker\":{\"color\":\"#ab63fa\",\"size\":[33517,34822,33756,39110,38693,43561,44755,38780],\"sizemode\":\"area\",\"sizeref\":114.645,\"symbol\":\"circle\"},\"mode\":\"markers\",\"name\":\"Best\",\"orientation\":\"v\",\"showlegend\":true,\"x\":[33517,34822,33756,39110,38693,43561,44755,38780],\"xaxis\":\"x\",\"y\":[3820,3975,4040,4124,4170,4395,4384,4253],\"yaxis\":\"y\",\"type\":\"scatter\"}],\"name\":\"Friday\"},{\"data\":[{\"hovertemplate\":\"Kind_of_trips=Bad<br>days=Saturday<br>trips=%{marker.size}<br>vehicles=%{y}<extra></extra>\",\"ids\":[1526,7432,8010,1088,1646,2202,9546,1281,2160,1608,2376,3282,1892,1504,3473,2055,6307,7658,2149,1803,7753],\"legendgroup\":\"Bad\",\"marker\":{\"color\":\"#636efa\",\"size\":[1526,7432,8010,1088,1646,2202,9546,1281,2160,1608,2376,3282,1892,1504,3473,2055,6307,7658,2149,1803,7753],\"sizemode\":\"area\",\"sizeref\":114.645,\"symbol\":\"circle\"},\"mode\":\"markers\",\"name\":\"Bad\",\"orientation\":\"v\",\"showlegend\":true,\"x\":[1526,7432,8010,1088,1646,2202,9546,1281,2160,1608,2376,3282,1892,1504,3473,2055,6307,7658,2149,1803,7753],\"xaxis\":\"x\",\"y\":[201,818,915,173,206,245,974,201,252,211,245,309,225,211,345,236,583,685,238,230,747],\"yaxis\":\"y\",\"type\":\"scatter\"},{\"hovertemplate\":\"Kind_of_trips=Good<br>days=Saturday<br>trips=%{marker.size}<br>vehicles=%{y}<extra></extra>\",\"ids\":[29729],\"legendgroup\":\"Good\",\"marker\":{\"color\":\"#EF553B\",\"size\":[29729],\"sizemode\":\"area\",\"sizeref\":114.645,\"symbol\":\"circle\"},\"mode\":\"markers\",\"name\":\"Good\",\"orientation\":\"v\",\"showlegend\":true,\"x\":[29729],\"xaxis\":\"x\",\"y\":[3215],\"yaxis\":\"y\",\"type\":\"scatter\"},{\"hovertemplate\":\"Kind_of_trips=Normal<br>days=Saturday<br>trips=%{marker.size}<br>vehicles=%{y}<extra></extra>\",\"ids\":[10664,11629,13856,10287,11382,12676,10040,14143,13355,15756,15388,11642,10512,13688,13450,12678,16999,16448,12132,16149,16098,10319,14022,14472],\"legendgroup\":\"Normal\",\"marker\":{\"color\":\"#00cc96\",\"size\":[10664,11629,13856,10287,11382,12676,10040,14143,13355,15756,15388,11642,10512,13688,13450,12678,16999,16448,12132,16149,16098,10319,14022,14472],\"sizemode\":\"area\",\"sizeref\":114.645,\"symbol\":\"circle\"},\"mode\":\"markers\",\"name\":\"Normal\",\"orientation\":\"v\",\"showlegend\":true,\"x\":[10664,11629,13856,10287,11382,12676,10040,14143,13355,15756,15388,11642,10512,13688,13450,12678,16999,16448,12132,16149,16098,10319,14022,14472],\"xaxis\":\"x\",\"y\":[1188,1057,1331,949,1137,1306,945,1367,1223,1394,1321,1027,1031,1383,1300,1111,1486,1428,1044,1374,1443,994,1372,1386],\"yaxis\":\"y\",\"type\":\"scatter\"},{\"hovertemplate\":\"Kind_of_trips=Best<br>days=Saturday<br>trips=%{marker.size}<br>vehicles=%{y}<extra></extra>\",\"ids\":[38864,36318,39187,44297,38530,45858,44194,39812],\"legendgroup\":\"Best\",\"marker\":{\"color\":\"#ab63fa\",\"size\":[38864,36318,39187,44297,38530,45858,44194,39812],\"sizemode\":\"area\",\"sizeref\":114.645,\"symbol\":\"circle\"},\"mode\":\"markers\",\"name\":\"Best\",\"orientation\":\"v\",\"showlegend\":true,\"x\":[38864,36318,39187,44297,38530,45858,44194,39812],\"xaxis\":\"x\",\"y\":[3558,3657,3652,3947,3849,4129,3981,3952],\"yaxis\":\"y\",\"type\":\"scatter\"}],\"name\":\"Saturday\"},{\"data\":[{\"hovertemplate\":\"Kind_of_trips=Bad<br>days=Sunday<br>trips=%{marker.size}<br>vehicles=%{y}<extra></extra>\",\"ids\":[791,5621,5223,993,7729,1672,7176,8461,1104,1521,9443,2287,1190,1755,7219,9303,9499,1377,2672,2623,8129,1196,5500,1996,1312,8271,5034],\"legendgroup\":\"Bad\",\"marker\":{\"color\":\"#636efa\",\"size\":[791,5621,5223,993,7729,1672,7176,8461,1104,1521,9443,2287,1190,1755,7219,9303,9499,1377,2672,2623,8129,1196,5500,1996,1312,8271,5034],\"sizemode\":\"area\",\"sizeref\":114.645,\"symbol\":\"circle\"},\"mode\":\"markers\",\"name\":\"Bad\",\"orientation\":\"v\",\"showlegend\":true,\"x\":[791,5621,5223,993,7729,1672,7176,8461,1104,1521,9443,2287,1190,1755,7219,9303,9499,1377,2672,2623,8129,1196,5500,1996,1312,8271,5034],\"xaxis\":\"x\",\"y\":[147,812,746,183,1088,220,832,943,162,177,869,248,183,226,829,1046,961,193,289,313,923,176,521,210,199,909,566],\"yaxis\":\"y\",\"type\":\"scatter\"},{\"hovertemplate\":\"Kind_of_trips=Good<br>days=Sunday<br>trips=%{marker.size}<br>vehicles=%{y}<extra></extra>\",\"ids\":[20441,27681,28066,29692],\"legendgroup\":\"Good\",\"marker\":{\"color\":\"#EF553B\",\"size\":[20441,27681,28066,29692],\"sizemode\":\"area\",\"sizeref\":114.645,\"symbol\":\"circle\"},\"mode\":\"markers\",\"name\":\"Good\",\"orientation\":\"v\",\"showlegend\":true,\"x\":[20441,27681,28066,29692],\"xaxis\":\"x\",\"y\":[2862,3186,3300,3422],\"yaxis\":\"y\",\"type\":\"scatter\"},{\"hovertemplate\":\"Kind_of_trips=Normal<br>days=Sunday<br>trips=%{marker.size}<br>vehicles=%{y}<extra></extra>\",\"ids\":[10932,11161,12879,10362,12436,13458,11004,10356,14517,14662,11517,10696,10970],\"legendgroup\":\"Normal\",\"marker\":{\"color\":\"#00cc96\",\"size\":[10932,11161,12879,10362,12436,13458,11004,10356,14517,14662,11517,10696,10970],\"sizemode\":\"area\",\"sizeref\":114.645,\"symbol\":\"circle\"},\"mode\":\"markers\",\"name\":\"Normal\",\"orientation\":\"v\",\"showlegend\":true,\"x\":[10932,11161,12879,10362,12436,13458,11004,10356,14517,14662,11517,10696,10970],\"xaxis\":\"x\",\"y\":[1228,1056,1223,1203,1214,1355,1256,1136,1261,1293,1003,1248,1220],\"yaxis\":\"y\",\"type\":\"scatter\"},{\"hovertemplate\":\"Kind_of_trips=Best<br>days=Sunday<br>trips=%{marker.size}<br>vehicles=%{y}<extra></extra>\",\"ids\":[35182,37468,41209,30157],\"legendgroup\":\"Best\",\"marker\":{\"color\":\"#ab63fa\",\"size\":[35182,37468,41209,30157],\"sizemode\":\"area\",\"sizeref\":114.645,\"symbol\":\"circle\"},\"mode\":\"markers\",\"name\":\"Best\",\"orientation\":\"v\",\"showlegend\":true,\"x\":[35182,37468,41209,30157],\"xaxis\":\"x\",\"y\":[3290,3740,3651,3478],\"yaxis\":\"y\",\"type\":\"scatter\"}],\"name\":\"Sunday\"},{\"data\":[{\"hovertemplate\":\"Kind_of_trips=Bad<br>days=Monday<br>trips=%{marker.size}<br>vehicles=%{y}<extra></extra>\",\"ids\":[984,6012,7899,5798,1133,1711,1399,7915,9107,7028,7775,1568,1025,5609,7608,5919,1363,7565,1000,2607,9511,1904,8135,1565,2894,9052,1576,4875,8943,5823,1844],\"legendgroup\":\"Bad\",\"marker\":{\"color\":\"#636efa\",\"size\":[984,6012,7899,5798,1133,1711,1399,7915,9107,7028,7775,1568,1025,5609,7608,5919,1363,7565,1000,2607,9511,1904,8135,1565,2894,9052,1576,4875,8943,5823,1844],\"sizemode\":\"area\",\"sizeref\":114.645,\"symbol\":\"circle\"},\"mode\":\"markers\",\"name\":\"Bad\",\"orientation\":\"v\",\"showlegend\":true,\"x\":[984,6012,7899,5798,1133,1711,1399,7915,9107,7028,7775,1568,1025,5609,7608,5919,1363,7565,1000,2607,9511,1904,8135,1565,2894,9052,1576,4875,8943,5823,1844],\"xaxis\":\"x\",\"y\":[194,951,1218,907,227,279,217,964,1082,883,992,238,168,706,1150,860,230,1084,197,275,939,227,976,228,388,934,207,508,966,665,238],\"yaxis\":\"y\",\"type\":\"scatter\"},{\"hovertemplate\":\"Kind_of_trips=Good<br>days=Monday<br>trips=%{marker.size}<br>vehicles=%{y}<extra></extra>\",\"ids\":[20926,26852,22750,28266],\"legendgroup\":\"Good\",\"marker\":{\"color\":\"#EF553B\",\"size\":[20926,26852,22750,28266],\"sizemode\":\"area\",\"sizeref\":114.645,\"symbol\":\"circle\"},\"mode\":\"markers\",\"name\":\"Good\",\"orientation\":\"v\",\"showlegend\":true,\"x\":[20926,26852,22750,28266],\"xaxis\":\"x\",\"y\":[3387,3499,2958,3543],\"yaxis\":\"y\",\"type\":\"scatter\"},{\"hovertemplate\":\"Kind_of_trips=Normal<br>days=Monday<br>trips=%{marker.size}<br>vehicles=%{y}<extra></extra>\",\"ids\":[10662,19940,12216,11981,10887,10209,11824,11323,11720,11714],\"legendgroup\":\"Normal\",\"marker\":{\"color\":\"#00cc96\",\"size\":[10662,19940,12216,11981,10887,10209,11824,11323,11720,11714],\"sizemode\":\"area\",\"sizeref\":114.645,\"symbol\":\"circle\"},\"mode\":\"markers\",\"name\":\"Normal\",\"orientation\":\"v\",\"showlegend\":true,\"x\":[10662,19940,12216,11981,10887,10209,11824,11323,11720,11714],\"xaxis\":\"x\",\"y\":[1323,3012,1217,1152,1312,1241,1214,1164,1332,1262],\"yaxis\":\"y\",\"type\":\"scatter\"},{\"hovertemplate\":\"Kind_of_trips=Best<br>days=Monday<br>trips=%{marker.size}<br>vehicles=%{y}<extra></extra>\",\"ids\":[30761,33448,31173],\"legendgroup\":\"Best\",\"marker\":{\"color\":\"#ab63fa\",\"size\":[30761,33448,31173],\"sizemode\":\"area\",\"sizeref\":114.645,\"symbol\":\"circle\"},\"mode\":\"markers\",\"name\":\"Best\",\"orientation\":\"v\",\"showlegend\":true,\"x\":[30761,33448,31173],\"xaxis\":\"x\",\"y\":[3270,3524,3734],\"yaxis\":\"y\",\"type\":\"scatter\"}],\"name\":\"Monday\"},{\"data\":[{\"hovertemplate\":\"Kind_of_trips=Bad<br>days=Tuesday<br>trips=%{marker.size}<br>vehicles=%{y}<extra></extra>\",\"ids\":[7491,1376,1314,6816,1697,8713,1652,9629,7206,8496,1310,1608,4414,921,4325,2957,629,2410,9602,1915,1555,3432,8718,1797,9463,4907,1869,9954,6390],\"legendgroup\":\"Bad\",\"marker\":{\"color\":\"#636efa\",\"size\":[7491,1376,1314,6816,1697,8713,1652,9629,7206,8496,1310,1608,4414,921,4325,2957,629,2410,9602,1915,1555,3432,8718,1797,9463,4907,1869,9954,6390],\"sizemode\":\"area\",\"sizeref\":114.645,\"symbol\":\"circle\"},\"mode\":\"markers\",\"name\":\"Bad\",\"orientation\":\"v\",\"showlegend\":true,\"x\":[7491,1376,1314,6816,1697,8713,1652,9629,7206,8496,1310,1608,4414,921,4325,2957,629,2410,9602,1915,1555,3432,8718,1797,9463,4907,1869,9954,6390],\"xaxis\":\"x\",\"y\":[1022,234,218,933,258,975,234,1092,944,1151,221,272,600,135,596,434,112,299,991,257,233,422,1029,241,1066,578,247,1061,698],\"yaxis\":\"y\",\"type\":\"scatter\"},{\"hovertemplate\":\"Kind_of_trips=Good<br>days=Tuesday<br>trips=%{marker.size}<br>vehicles=%{y}<extra></extra>\",\"ids\":[25301,29983,26137,29124],\"legendgroup\":\"Good\",\"marker\":{\"color\":\"#EF553B\",\"size\":[25301,29983,26137,29124],\"sizemode\":\"area\",\"sizeref\":114.645,\"symbol\":\"circle\"},\"mode\":\"markers\",\"name\":\"Good\",\"orientation\":\"v\",\"showlegend\":true,\"x\":[25301,29983,26137,29124],\"xaxis\":\"x\",\"y\":[3473,3658,3654,3700],\"yaxis\":\"y\",\"type\":\"scatter\"},{\"hovertemplate\":\"Kind_of_trips=Normal<br>days=Tuesday<br>trips=%{marker.size}<br>vehicles=%{y}<extra></extra>\",\"ids\":[10128,11825,10015,11998,12665,11955,11401,10536,11887,12524,12497,13719],\"legendgroup\":\"Normal\",\"marker\":{\"color\":\"#00cc96\",\"size\":[10128,11825,10015,11998,12665,11955,11401,10536,11887,12524,12497,13719],\"sizemode\":\"area\",\"sizeref\":114.645,\"symbol\":\"circle\"},\"mode\":\"markers\",\"name\":\"Normal\",\"orientation\":\"v\",\"showlegend\":true,\"x\":[10128,11825,10015,11998,12665,11955,11401,10536,11887,12524,12497,13719],\"xaxis\":\"x\",\"y\":[1336,1342,1350,1619,1350,1269,1364,1281,1314,1378,1346,1456],\"yaxis\":\"y\",\"type\":\"scatter\"},{\"hovertemplate\":\"Kind_of_trips=Best<br>days=Tuesday<br>trips=%{marker.size}<br>vehicles=%{y}<extra></extra>\",\"ids\":[31641,32473,34686],\"legendgroup\":\"Best\",\"marker\":{\"color\":\"#ab63fa\",\"size\":[31641,32473,34686],\"sizemode\":\"area\",\"sizeref\":114.645,\"symbol\":\"circle\"},\"mode\":\"markers\",\"name\":\"Best\",\"orientation\":\"v\",\"showlegend\":true,\"x\":[31641,32473,34686],\"xaxis\":\"x\",\"y\":[3674,3826,3965],\"yaxis\":\"y\",\"type\":\"scatter\"}],\"name\":\"Tuesday\"},{\"data\":[{\"hovertemplate\":\"Kind_of_trips=Bad<br>days=Wednesday<br>trips=%{marker.size}<br>vehicles=%{y}<extra></extra>\",\"ids\":[9078,1704,1446,8397,1600,8870,1582,9762,1519,9472,8041,1774,1913,8071,1438,2334,1639,9600,1831,3778,9538,5059,1589,1647,9405,6178],\"legendgroup\":\"Bad\",\"marker\":{\"color\":\"#636efa\",\"size\":[9078,1704,1446,8397,1600,8870,1582,9762,1519,9472,8041,1774,1913,8071,1438,2334,1639,9600,1831,3778,9538,5059,1589,1647,9405,6178],\"sizemode\":\"area\",\"sizeref\":114.645,\"symbol\":\"circle\"},\"mode\":\"markers\",\"name\":\"Bad\",\"orientation\":\"v\",\"showlegend\":true,\"x\":[9078,1704,1446,8397,1600,8870,1582,9762,1519,9472,8041,1774,1913,8071,1438,2334,1639,9600,1831,3778,9538,5059,1589,1647,9405,6178],\"xaxis\":\"x\",\"y\":[1039,248,217,974,271,1030,233,1174,242,1228,1035,296,286,1011,235,309,244,1072,255,450,1078,586,228,246,1076,706],\"yaxis\":\"y\",\"type\":\"scatter\"},{\"hovertemplate\":\"Kind_of_trips=Good<br>days=Wednesday<br>trips=%{marker.size}<br>vehicles=%{y}<extra></extra>\",\"ids\":[29949,29550,27344,28137,29994],\"legendgroup\":\"Good\",\"marker\":{\"color\":\"#EF553B\",\"size\":[29949,29550,27344,28137,29994],\"sizemode\":\"area\",\"sizeref\":114.645,\"symbol\":\"circle\"},\"mode\":\"markers\",\"name\":\"Good\",\"orientation\":\"v\",\"showlegend\":true,\"x\":[29949,29550,27344,28137,29994],\"xaxis\":\"x\",\"y\":[3603,3736,3718,3692,3856],\"yaxis\":\"y\",\"type\":\"scatter\"},{\"hovertemplate\":\"Kind_of_trips=Normal<br>days=Wednesday<br>trips=%{marker.size}<br>vehicles=%{y}<extra></extra>\",\"ids\":[11528,11965,10997,10025,10862,11309,11959,12749,10034,12189,11724,12016,12693,12811],\"legendgroup\":\"Normal\",\"marker\":{\"color\":\"#00cc96\",\"size\":[11528,11965,10997,10025,10862,11309,11959,12749,10034,12189,11724,12016,12693,12811],\"sizemode\":\"area\",\"sizeref\":114.645,\"symbol\":\"circle\"},\"mode\":\"markers\",\"name\":\"Normal\",\"orientation\":\"v\",\"showlegend\":true,\"x\":[11528,11965,10997,10025,10862,11309,11959,12749,10034,12189,11724,12016,12693,12811],\"xaxis\":\"x\",\"y\":[1363,1405,1429,1235,1356,1311,1393,1450,1115,1396,1314,1394,1395,1473],\"yaxis\":\"y\",\"type\":\"scatter\"},{\"hovertemplate\":\"Kind_of_trips=Best<br>days=Wednesday<br>trips=%{marker.size}<br>vehicles=%{y}<extra></extra>\",\"ids\":[31889,32317,31957],\"legendgroup\":\"Best\",\"marker\":{\"color\":\"#ab63fa\",\"size\":[31889,32317,31957],\"sizemode\":\"area\",\"sizeref\":114.645,\"symbol\":\"circle\"},\"mode\":\"markers\",\"name\":\"Best\",\"orientation\":\"v\",\"showlegend\":true,\"x\":[31889,32317,31957],\"xaxis\":\"x\",\"y\":[3849,3842,3934],\"yaxis\":\"y\",\"type\":\"scatter\"}],\"name\":\"Wednesday\"}]);\n",
       "                        }).then(function(){\n",
       "                            \n",
       "var gd = document.getElementById('ae7ed5c6-ee36-40c2-8002-0ffc768a6b9c');\n",
       "var x = new MutationObserver(function (mutations, observer) {{\n",
       "        var display = window.getComputedStyle(gd).display;\n",
       "        if (!display || display === 'none') {{\n",
       "            console.log([gd, 'removed!']);\n",
       "            Plotly.purge(gd);\n",
       "            observer.disconnect();\n",
       "        }}\n",
       "}});\n",
       "\n",
       "// Listen for the removal of the full notebook cells\n",
       "var notebookContainer = gd.closest('#notebook-container');\n",
       "if (notebookContainer) {{\n",
       "    x.observe(notebookContainer, {childList: true});\n",
       "}}\n",
       "\n",
       "// Listen for the clearing of the current output cell\n",
       "var outputEl = gd.closest('.output');\n",
       "if (outputEl) {{\n",
       "    x.observe(outputEl, {childList: true});\n",
       "}}\n",
       "\n",
       "                        })                };                });            </script>        </div>"
      ]
     },
     "metadata": {},
     "output_type": "display_data"
    }
   ],
   "source": [
    "px.scatter(Uber_jan_feb, \n",
    "x = 'trips' , \n",
    "y = 'active_vehicles' , \n",
    "size='trips' , \n",
    "color='Kind_of_trips' ,\n",
    "animation_frame='days' ,\n",
    "animation_group='trips',\n",
    "template='plotly_dark' ,\n",
    "labels={'active_vehicles':'vehicles'} ,\n",
    "height=1000 ,\n",
    ")"
   ]
  }
 ],
 "metadata": {
  "kernelspec": {
   "display_name": "Python 3.10.5 64-bit",
   "language": "python",
   "name": "python3"
  },
  "language_info": {
   "codemirror_mode": {
    "name": "ipython",
    "version": 3
   },
   "file_extension": ".py",
   "mimetype": "text/x-python",
   "name": "python",
   "nbconvert_exporter": "python",
   "pygments_lexer": "ipython3",
   "version": "3.10.5"
  },
  "orig_nbformat": 4,
  "vscode": {
   "interpreter": {
    "hash": "f498f339f928c058cfc05fb4a17b6332d2d89b188a19e4306aeb231decb1ac55"
   }
  }
 },
 "nbformat": 4,
 "nbformat_minor": 2
}
